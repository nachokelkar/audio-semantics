{
 "cells": [
  {
   "cell_type": "markdown",
   "id": "2c355c92-8b8c-4161-b033-3becc7bdd33a",
   "metadata": {},
   "source": [
    "# Thesis - Step 1\n",
    "\n",
    "Using pure text data to get best similarity scores."
   ]
  },
  {
   "cell_type": "code",
   "execution_count": 1,
   "id": "57f10954-bf97-4afc-afc5-ec3ab2f55994",
   "metadata": {},
   "outputs": [],
   "source": [
    "import os"
   ]
  },
  {
   "cell_type": "markdown",
   "id": "ad2c9adf-f4ec-4b4a-873b-2c226205bd77",
   "metadata": {},
   "source": [
    "## Approach 1 - SentencePiece\n",
    "\n",
    "This approach uses SentencePiece on text data with only the letters to try and find words."
   ]
  },
  {
   "cell_type": "code",
   "execution_count": 2,
   "id": "e7d6f33c-b3ad-4f9e-8a71-d131915b1b64",
   "metadata": {},
   "outputs": [],
   "source": [
    "import sentencepiece as spm"
   ]
  },
  {
   "cell_type": "code",
   "execution_count": 3,
   "id": "3ec298bb-7639-4c4d-983b-75ed45c38643",
   "metadata": {},
   "outputs": [],
   "source": [
    "input_file = os.getcwd() + \"/data/gutenberg_no_spaces.txt\"\n",
    "vocab_size = 8000\n",
    "model_type = \"unigram\"\n",
    "model_name = f\"{model_type}_{vocab_size}\""
   ]
  },
  {
   "cell_type": "code",
   "execution_count": null,
   "id": "dd64cda8-e4db-4816-934a-3bd87dcf0f5e",
   "metadata": {},
   "outputs": [],
   "source": [
    "# train sentencepiece model from `botchan.txt` and makes `m.model` and `m.vocab`\n",
    "# `m.vocab` is just a reference. not used in the segmentation.\n",
    "spm.SentencePieceTrainer.train(\n",
    "    f\"--input={input_file} --model_prefix={model_name} --vocab_size={vocab_size} --max_sentence_length=2532334 --train_extremely_large_corpus\"\n",
    ")"
   ]
  },
  {
   "cell_type": "code",
   "execution_count": null,
   "id": "0c205055-8cb3-4391-b73d-acfaa9c1ef53",
   "metadata": {},
   "outputs": [],
   "source": [
    "# makes segmenter instance and loads the model file (m.model)\n",
    "sp = spm.SentencePieceProcessor()\n",
    "sp.load(f\"{model_name}.model\")\n",
    "\n",
    "# encode: text => id\n",
    "print(sp.encode_as_pieces('test'))\n",
    "print(sp.encode_as_ids('test'))"
   ]
  },
  {
   "cell_type": "code",
   "execution_count": null,
   "id": "2b66295e-32fb-45bf-9a4b-fd002a736bc1",
   "metadata": {},
   "outputs": [],
   "source": [
    "# decode: id => text\n",
    "print(sp.decode_pieces(['▁This', '▁is', '▁a', '▁t', 'est']))\n",
    "print(sp.decode_ids([209, 31, 9, 375, 586]))"
   ]
  },
  {
   "cell_type": "code",
   "execution_count": null,
   "id": "9979009c-5718-4dfd-9e9b-2ccbc3bc00db",
   "metadata": {},
   "outputs": [],
   "source": []
  }
 ],
 "metadata": {
  "kernelspec": {
   "display_name": "default:Python",
   "language": "python",
   "name": "conda-env-default-py"
  },
  "language_info": {
   "codemirror_mode": {
    "name": "ipython",
    "version": 3
   },
   "file_extension": ".py",
   "mimetype": "text/x-python",
   "name": "python",
   "nbconvert_exporter": "python",
   "pygments_lexer": "ipython3",
   "version": "3.9.12"
  }
 },
 "nbformat": 4,
 "nbformat_minor": 5
}
