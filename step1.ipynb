{
 "cells": [
  {
   "cell_type": "markdown",
   "id": "2c355c92-8b8c-4161-b033-3becc7bdd33a",
   "metadata": {},
   "source": [
    "# Thesis - Step 1\n",
    "\n",
    "Using pure text data to get best similarity scores."
   ]
  },
  {
   "cell_type": "code",
   "execution_count": 1,
   "id": "57f10954-bf97-4afc-afc5-ec3ab2f55994",
   "metadata": {
    "gather": {
     "logged": 1680194273976
    }
   },
   "outputs": [],
   "source": [
    "import os\n",
    "import numpy as np"
   ]
  },
  {
   "cell_type": "markdown",
   "id": "ad2c9adf-f4ec-4b4a-873b-2c226205bd77",
   "metadata": {},
   "source": [
    "## Approach 1 - SentencePiece\n",
    "\n",
    "This approach uses SentencePiece on text data with only the letters to try and find words."
   ]
  },
  {
   "cell_type": "code",
   "execution_count": 2,
   "id": "e7d6f33c-b3ad-4f9e-8a71-d131915b1b64",
   "metadata": {
    "gather": {
     "logged": 1680194274974
    }
   },
   "outputs": [],
   "source": [
    "import sentencepiece as spm"
   ]
  },
  {
   "cell_type": "code",
   "execution_count": 3,
   "id": "3ec298bb-7639-4c4d-983b-75ed45c38643",
   "metadata": {
    "gather": {
     "logged": 1680031548880
    }
   },
   "outputs": [],
   "source": [
    "input_file = os.getcwd() + \"/data/gtbrg_8m_lines.txt\"\n",
    "version = \"s1\"\n",
    "max_sentence_length = 5003\n",
    "vocab_size = 19099\n",
    "model_type = \"unigram\"\n",
    "SP_MODEL_NAME = f\"models/{model_type}_{vocab_size}_{version}\""
   ]
  },
  {
   "cell_type": "code",
   "execution_count": null,
   "id": "dd64cda8-e4db-4816-934a-3bd87dcf0f5e",
   "metadata": {
    "gather": {
     "logged": 1680031587088
    }
   },
   "outputs": [],
   "source": [
    "# train sentencepiece model from `botchan.txt` and makes `m.model` and `m.vocab`\n",
    "# `m.vocab` is just a reference. not used in the segmentation.\n",
    "spm.SentencePieceTrainer.train(\n",
    "    f\"--input={input_file} \" \\\n",
    "    f\"--model_type={model_type} \" \\\n",
    "    f\"--model_prefix={SP_MODEL_NAME} \" \\\n",
    "    f\"--vocab_size={vocab_size} \" \\\n",
    "    f\"--max_sentence_length={max_sentence_length} \" \\\n",
    "    f\"--train_extremely_large_corpus\"\n",
    ")"
   ]
  },
  {
   "cell_type": "code",
   "execution_count": 4,
   "id": "0c205055-8cb3-4391-b73d-acfaa9c1ef53",
   "metadata": {
    "gather": {
     "logged": 1680194772113
    }
   },
   "outputs": [
    {
     "name": "stdout",
     "output_type": "stream",
     "text": [
      "['▁', 'apple']\n",
      "[3, 16882]\n",
      "[3, 616]\n",
      "[3, 62]\n"
     ]
    }
   ],
   "source": [
    "# makes segmenter instance and loads the model file (m.model)\n",
    "sp = spm.SentencePieceProcessor()\n",
    "sp.load(f\"{SP_MODEL_NAME}.model\")\n",
    "\n",
    "# encode: text => id\n",
    "print(sp.EncodeAsPieces('apple'))\n",
    "print(sp.encode_as_ids('boyhood'))\n",
    "print(sp.encode_as_ids('boy'))\n",
    "print(sp.encode_as_ids('man'))"
   ]
  },
  {
   "cell_type": "markdown",
   "id": "e72c9453-50a4-4e22-8ebd-7020fefe4609",
   "metadata": {
    "nteract": {
     "transient": {
      "deleting": false
     }
    }
   },
   "source": [
    "Loading the vocabulary created by SentencePiece"
   ]
  },
  {
   "cell_type": "code",
   "execution_count": null,
   "id": "10091f5e-499d-4301-a19f-3ba88bf86e86",
   "metadata": {
    "collapsed": false,
    "gather": {
     "logged": 1680194951102
    },
    "jupyter": {
     "outputs_hidden": false,
     "source_hidden": false
    },
    "nteract": {
     "transient": {
      "deleting": false
     }
    }
   },
   "outputs": [],
   "source": [
    "with open(input_file) as corpus_file:\n",
    "    corpus = corpus_file.readlines()\n",
    "\n",
    "sentences = [sp.EncodeAsPieces(sentence) for sentence in corpus]\n",
    "# sentences = [' '.join(sentence) for sentence in corpus]\n",
    "# sentences = [list(sentence) for sentence in corpus]"
   ]
  },
  {
   "cell_type": "markdown",
   "id": "9ab30628-7d4a-48ec-9e38-5027e7a06a59",
   "metadata": {
    "nteract": {
     "transient": {
      "deleting": false
     }
    }
   },
   "source": [
    "### Approach 1.1 - Word2Vec"
   ]
  },
  {
   "cell_type": "code",
   "execution_count": 5,
   "id": "f4e1d074-fd74-4e64-9f78-e5865d3a72fb",
   "metadata": {},
   "outputs": [],
   "source": [
    "from gensim.models.word2vec import Word2Vec"
   ]
  },
  {
   "cell_type": "code",
   "execution_count": 6,
   "id": "de00c3bf-0be8-4256-9ada-b25b580268e5",
   "metadata": {
    "collapsed": false,
    "gather": {
     "logged": 1680004547121
    },
    "jupyter": {
     "outputs_hidden": false,
     "source_hidden": false
    },
    "nteract": {
     "transient": {
      "deleting": false
     }
    }
   },
   "outputs": [],
   "source": [
    "W2V_MODEL_PATH = f\"models/w2v_100_{version}.model\""
   ]
  },
  {
   "cell_type": "code",
   "execution_count": null,
   "id": "bdaf5159-36c3-4638-bb3e-8deb8d8ea6d4",
   "metadata": {
    "collapsed": false,
    "gather": {
     "logged": 1680005530991
    },
    "jupyter": {
     "outputs_hidden": false,
     "source_hidden": false
    },
    "nteract": {
     "transient": {
      "deleting": false
     }
    }
   },
   "outputs": [],
   "source": [
    "model = Word2Vec(sentences, window=5, min_count=0, workers=4)\n",
    "# model.build_vocab()"
   ]
  },
  {
   "cell_type": "code",
   "execution_count": null,
   "id": "cba718e9-7e56-4962-8f55-2896b45c274a",
   "metadata": {
    "collapsed": false,
    "gather": {
     "logged": 1680004691811
    },
    "jupyter": {
     "outputs_hidden": false,
     "source_hidden": false
    },
    "nteract": {
     "transient": {
      "deleting": false
     }
    }
   },
   "outputs": [],
   "source": [
    "model.save(W2V_MODEL_PATH)"
   ]
  },
  {
   "cell_type": "markdown",
   "id": "45fb1d1e-160a-4205-b9fd-565c20c1ffc6",
   "metadata": {},
   "source": [
    "### Testing"
   ]
  },
  {
   "cell_type": "code",
   "execution_count": 7,
   "id": "d0f2a252-1d31-477d-8f7d-85e9e582dce5",
   "metadata": {
    "collapsed": false,
    "gather": {
     "logged": 1680004328602
    },
    "jupyter": {
     "outputs_hidden": false,
     "source_hidden": false
    },
    "nteract": {
     "transient": {
      "deleting": false
     }
    }
   },
   "outputs": [],
   "source": [
    "model = Word2Vec.load(W2V_MODEL_PATH)"
   ]
  },
  {
   "cell_type": "code",
   "execution_count": null,
   "id": "0a2b160f-d95f-4652-a5f9-25446e422ce9",
   "metadata": {},
   "outputs": [],
   "source": [
    "print(sentences[0][:10])"
   ]
  },
  {
   "cell_type": "code",
   "execution_count": 8,
   "id": "4b3458ab-8d5e-444f-a079-16dab88cede3",
   "metadata": {},
   "outputs": [
    {
     "data": {
      "text/plain": [
       "['▁', 'ban', 'ana']"
      ]
     },
     "execution_count": 8,
     "metadata": {},
     "output_type": "execute_result"
    }
   ],
   "source": [
    "sp.EncodeAsPieces(\"banana\")"
   ]
  },
  {
   "cell_type": "code",
   "execution_count": 10,
   "id": "4ffd11ce-0b84-4ad0-9c36-ea4e23e99a9f",
   "metadata": {},
   "outputs": [
    {
     "data": {
      "text/plain": [
       "[('thehuman', 0.7530105113983154),\n",
       " ('sensuous', 0.749160885810852),\n",
       " ('spiritual', 0.7185163497924805),\n",
       " ('external', 0.7111231684684753),\n",
       " ('supernatural', 0.7045252323150635),\n",
       " ('creative', 0.7019811868667603),\n",
       " ('corporeal', 0.6909513473510742),\n",
       " ('rational', 0.6686607599258423),\n",
       " ('universal', 0.6654500961303711),\n",
       " ('complex', 0.6542152166366577)]"
      ]
     },
     "execution_count": 10,
     "metadata": {},
     "output_type": "execute_result"
    }
   ],
   "source": [
    "model.wv.most_similar(\"human\")"
   ]
  },
  {
   "cell_type": "code",
   "execution_count": null,
   "id": "e3817dab-eb26-49ed-a3e8-75ff44975f0a",
   "metadata": {
    "collapsed": false,
    "gather": {
     "logged": 1680012211655
    },
    "jupyter": {
     "outputs_hidden": false,
     "source_hidden": false
    },
    "nteract": {
     "transient": {
      "deleting": false
     }
    }
   },
   "outputs": [],
   "source": [
    "model.wv.most_similar(\"apple\")"
   ]
  },
  {
   "cell_type": "code",
   "execution_count": 25,
   "id": "dcbdb197-a10d-4e03-89b0-8af92ae68e6d",
   "metadata": {},
   "outputs": [
    {
     "data": {
      "text/plain": [
       "[('queen', 0.7470260858535767),\n",
       " ('maiden', 0.6551803350448608),\n",
       " ('daughter', 0.6430643796920776),\n",
       " ('sister', 0.6402992010116577),\n",
       " ('prince', 0.638314962387085),\n",
       " ('countess', 0.5871137380599976),\n",
       " ('dame', 0.5857516527175903),\n",
       " ('thequeen', 0.5773256421089172),\n",
       " ('princess', 0.5710912346839905),\n",
       " ('damsel', 0.560126543045044)]"
      ]
     },
     "execution_count": 25,
     "metadata": {},
     "output_type": "execute_result"
    }
   ],
   "source": [
    "model.wv.most_similar(positive=['woman', 'king'], negative=['man'])"
   ]
  },
  {
   "cell_type": "code",
   "execution_count": 26,
   "id": "02409257-9feb-4437-8750-fb8662f635b3",
   "metadata": {},
   "outputs": [
    {
     "ename": "KeyError",
     "evalue": "\"word 'banana' not in vocabulary\"",
     "output_type": "error",
     "traceback": [
      "\u001b[0;31m---------------------------------------------------------------------------\u001b[0m",
      "\u001b[0;31mKeyError\u001b[0m                                  Traceback (most recent call last)",
      "\u001b[0;32m/tmp/ipykernel_264/2695128023.py\u001b[0m in \u001b[0;36m<cell line: 1>\u001b[0;34m()\u001b[0m\n\u001b[0;32m----> 1\u001b[0;31m \u001b[0mmodel\u001b[0m\u001b[0;34m.\u001b[0m\u001b[0mwv\u001b[0m\u001b[0;34m.\u001b[0m\u001b[0mmost_similar\u001b[0m\u001b[0;34m(\u001b[0m\u001b[0;34m\"banana\"\u001b[0m\u001b[0;34m)\u001b[0m\u001b[0;34m\u001b[0m\u001b[0;34m\u001b[0m\u001b[0m\n\u001b[0m",
      "\u001b[0;32m~/.conda/envs/default/lib/python3.9/site-packages/gensim/models/keyedvectors.py\u001b[0m in \u001b[0;36mmost_similar\u001b[0;34m(self, positive, negative, topn, restrict_vocab, indexer)\u001b[0m\n\u001b[1;32m    551\u001b[0m                 \u001b[0mmean\u001b[0m\u001b[0;34m.\u001b[0m\u001b[0mappend\u001b[0m\u001b[0;34m(\u001b[0m\u001b[0mweight\u001b[0m \u001b[0;34m*\u001b[0m \u001b[0mword\u001b[0m\u001b[0;34m)\u001b[0m\u001b[0;34m\u001b[0m\u001b[0;34m\u001b[0m\u001b[0m\n\u001b[1;32m    552\u001b[0m             \u001b[0;32melse\u001b[0m\u001b[0;34m:\u001b[0m\u001b[0;34m\u001b[0m\u001b[0;34m\u001b[0m\u001b[0m\n\u001b[0;32m--> 553\u001b[0;31m                 \u001b[0mmean\u001b[0m\u001b[0;34m.\u001b[0m\u001b[0mappend\u001b[0m\u001b[0;34m(\u001b[0m\u001b[0mweight\u001b[0m \u001b[0;34m*\u001b[0m \u001b[0mself\u001b[0m\u001b[0;34m.\u001b[0m\u001b[0mword_vec\u001b[0m\u001b[0;34m(\u001b[0m\u001b[0mword\u001b[0m\u001b[0;34m,\u001b[0m \u001b[0muse_norm\u001b[0m\u001b[0;34m=\u001b[0m\u001b[0;32mTrue\u001b[0m\u001b[0;34m)\u001b[0m\u001b[0;34m)\u001b[0m\u001b[0;34m\u001b[0m\u001b[0;34m\u001b[0m\u001b[0m\n\u001b[0m\u001b[1;32m    554\u001b[0m                 \u001b[0;32mif\u001b[0m \u001b[0mword\u001b[0m \u001b[0;32min\u001b[0m \u001b[0mself\u001b[0m\u001b[0;34m.\u001b[0m\u001b[0mvocab\u001b[0m\u001b[0;34m:\u001b[0m\u001b[0;34m\u001b[0m\u001b[0;34m\u001b[0m\u001b[0m\n\u001b[1;32m    555\u001b[0m                     \u001b[0mall_words\u001b[0m\u001b[0;34m.\u001b[0m\u001b[0madd\u001b[0m\u001b[0;34m(\u001b[0m\u001b[0mself\u001b[0m\u001b[0;34m.\u001b[0m\u001b[0mvocab\u001b[0m\u001b[0;34m[\u001b[0m\u001b[0mword\u001b[0m\u001b[0;34m]\u001b[0m\u001b[0;34m.\u001b[0m\u001b[0mindex\u001b[0m\u001b[0;34m)\u001b[0m\u001b[0;34m\u001b[0m\u001b[0;34m\u001b[0m\u001b[0m\n",
      "\u001b[0;32m~/.conda/envs/default/lib/python3.9/site-packages/gensim/models/keyedvectors.py\u001b[0m in \u001b[0;36mword_vec\u001b[0;34m(self, word, use_norm)\u001b[0m\n\u001b[1;32m    466\u001b[0m             \u001b[0;32mreturn\u001b[0m \u001b[0mresult\u001b[0m\u001b[0;34m\u001b[0m\u001b[0;34m\u001b[0m\u001b[0m\n\u001b[1;32m    467\u001b[0m         \u001b[0;32melse\u001b[0m\u001b[0;34m:\u001b[0m\u001b[0;34m\u001b[0m\u001b[0;34m\u001b[0m\u001b[0m\n\u001b[0;32m--> 468\u001b[0;31m             \u001b[0;32mraise\u001b[0m \u001b[0mKeyError\u001b[0m\u001b[0;34m(\u001b[0m\u001b[0;34m\"word '%s' not in vocabulary\"\u001b[0m \u001b[0;34m%\u001b[0m \u001b[0mword\u001b[0m\u001b[0;34m)\u001b[0m\u001b[0;34m\u001b[0m\u001b[0;34m\u001b[0m\u001b[0m\n\u001b[0m\u001b[1;32m    469\u001b[0m \u001b[0;34m\u001b[0m\u001b[0m\n\u001b[1;32m    470\u001b[0m     \u001b[0;32mdef\u001b[0m \u001b[0mget_vector\u001b[0m\u001b[0;34m(\u001b[0m\u001b[0mself\u001b[0m\u001b[0;34m,\u001b[0m \u001b[0mword\u001b[0m\u001b[0;34m)\u001b[0m\u001b[0;34m:\u001b[0m\u001b[0;34m\u001b[0m\u001b[0;34m\u001b[0m\u001b[0m\n",
      "\u001b[0;31mKeyError\u001b[0m: \"word 'banana' not in vocabulary\""
     ]
    }
   ],
   "source": [
    "model.wv.most_similar(\"banana\")"
   ]
  },
  {
   "cell_type": "code",
   "execution_count": 9,
   "id": "4dd755e2-773d-4165-8054-e27349f7caa7",
   "metadata": {
    "collapsed": false,
    "jupyter": {
     "outputs_hidden": false,
     "source_hidden": false
    },
    "nteract": {
     "transient": {
      "deleting": false
     }
    }
   },
   "outputs": [],
   "source": [
    "from scipy.stats import spearmanr\n",
    "from sklearn.metrics.pairwise import cosine_similarity"
   ]
  },
  {
   "cell_type": "code",
   "execution_count": 10,
   "id": "e8ffe001-2e50-4dd7-a53c-ac727a4ec665",
   "metadata": {},
   "outputs": [],
   "source": [
    "wordsim_scores = []\n",
    "\n",
    "with open(\"data/wordsim353_sim_rel/wordsim_similarity_goldstandard.txt\") as wordsim_fp:\n",
    "    for line in wordsim_fp.readlines():\n",
    "        scores = line.split(\"\\t\")\n",
    "        w1, w2 = scores[0], scores[1]\n",
    "        gold_score = float(scores[2])\n",
    "        wordsim_scores.append([w1, w2, gold_score])"
   ]
  },
  {
   "cell_type": "code",
   "execution_count": 11,
   "id": "0ae4f58f-9171-40cf-863a-b0806352db9d",
   "metadata": {},
   "outputs": [
    {
     "name": "stdout",
     "output_type": "stream",
     "text": [
      "0.6076737958802871 , tested 134/203 pairs\n",
      "0.4252012334227323 , including OOV\n"
     ]
    },
    {
     "name": "stderr",
     "output_type": "stream",
     "text": [
      "/home/studio-lab-user/.conda/envs/default/lib/python3.9/site-packages/scipy/stats/_stats_py.py:118: VisibleDeprecationWarning: Creating an ndarray from ragged nested sequences (which is a list-or-tuple of lists-or-tuples-or ndarrays with different lengths or shapes) is deprecated. If you meant to do this, you must specify 'dtype=object' when creating the ndarray.\n",
      "  a = np.asarray(a)\n"
     ]
    }
   ],
   "source": [
    "gold_vocab = []\n",
    "gold_all = []\n",
    "preds_vocab = []\n",
    "preds_all = []\n",
    "tested = 0\n",
    "oov = 0\n",
    "\n",
    "for pairs in wordsim_scores:\n",
    "    w1, w2 = pairs[0].lower(), pairs[1].lower()\n",
    "    \n",
    "    try:\n",
    "        pred = model.wv.similarity(w1, w2)\n",
    "        preds_vocab.append(pred)\n",
    "        gold_vocab.append(pairs[2])\n",
    "        tested += 1\n",
    "    \n",
    "    except KeyError:\n",
    "        if w1 not in model.wv.vocab.keys():\n",
    "            w1_units = sp.EncodeAsPieces(w1)[1:]\n",
    "            w1_vectors = np.array([model.wv[unit] for unit in w1_units])\n",
    "            w1_vector = w1_vectors.mean(axis=0)\n",
    "        else:\n",
    "            w1_vector = model.wv[w1]\n",
    "        if w2 not in model.wv.vocab.keys():\n",
    "            w2_units = sp.EncodeAsPieces(w2)[1:]\n",
    "            w2_vectors = np.array([model.wv[unit] for unit in w2_units])\n",
    "            w2_vector = w2_vectors.mean(axis=0)\n",
    "        else:\n",
    "            w2_vector = model.wv[w2]\n",
    "\n",
    "        pred = cosine_similarity(w1_vector.reshape(1, -1), w2_vector.reshape(1, -1))\n",
    "        oov += 1\n",
    "    \n",
    "    preds_all.append(pred)\n",
    "    gold_all.append(pairs[2])\n",
    "        \n",
    "\n",
    "print(spearmanr(preds_vocab, gold_vocab)[0], f\", tested {tested}/{len(wordsim_scores)} pairs\")\n",
    "print(spearmanr(preds_all, gold_all)[0], f\", including OOV\")"
   ]
  },
  {
   "cell_type": "code",
   "execution_count": 15,
   "id": "b0b5a226-357a-45b7-9a4d-fe77b5a26bec",
   "metadata": {},
   "outputs": [],
   "source": [
    "simlex_scores = []\n",
    "\n",
    "with open(\"data/SimLex-999/SimLex-999.txt\") as simlex_fp:\n",
    "    for line in simlex_fp.readlines()[1:]:\n",
    "        scores = line.split(\"\\t\")\n",
    "        w1, w2 = scores[0], scores[1]\n",
    "        gold_score = float(scores[3])\n",
    "        simlex_scores.append([w1, w2, gold_score])"
   ]
  },
  {
   "cell_type": "code",
   "execution_count": 16,
   "id": "591b4646-89e9-4d85-98cd-e0d20a3d802e",
   "metadata": {},
   "outputs": [
    {
     "name": "stdout",
     "output_type": "stream",
     "text": [
      "0.2814099441077932 , tested 808/1202 pairs\n",
      "0.18743511615356478 , including OOV\n"
     ]
    },
    {
     "name": "stderr",
     "output_type": "stream",
     "text": [
      "/home/studio-lab-user/.conda/envs/default/lib/python3.9/site-packages/scipy/stats/_stats_py.py:118: VisibleDeprecationWarning: Creating an ndarray from ragged nested sequences (which is a list-or-tuple of lists-or-tuples-or ndarrays with different lengths or shapes) is deprecated. If you meant to do this, you must specify 'dtype=object' when creating the ndarray.\n",
      "  a = np.asarray(a)\n"
     ]
    }
   ],
   "source": [
    "gold_vocab = []\n",
    "gold_all = []\n",
    "preds_vocab = []\n",
    "preds_all = []\n",
    "tested = 0\n",
    "oov = 0\n",
    "\n",
    "for pairs in simlex_scores:\n",
    "    w1, w2 = pairs[0].lower(), pairs[1].lower()\n",
    "    \n",
    "    try:\n",
    "        pred = model.wv.similarity(w1, w2)\n",
    "        preds_vocab.append(pred)\n",
    "        gold_vocab.append(pairs[2])\n",
    "        tested += 1\n",
    "    \n",
    "    except KeyError:\n",
    "        if w1 not in model.wv.vocab.keys():\n",
    "            w1_units = sp.EncodeAsPieces(w1)[1:]\n",
    "            w1_vectors = np.array([model.wv[unit] for unit in w1_units])\n",
    "            w1_vector = w1_vectors.mean(axis=0)\n",
    "        else:\n",
    "            w1_vector = model.wv[w1]\n",
    "        if w2 not in model.wv.vocab.keys():\n",
    "            w2_units = sp.EncodeAsPieces(w2)[1:]\n",
    "            w2_vectors = np.array([model.wv[unit] for unit in w2_units])\n",
    "            w2_vector = w2_vectors.mean(axis=0)\n",
    "        else:\n",
    "            w2_vector = model.wv[w2]\n",
    "\n",
    "        pred = cosine_similarity(w1_vector.reshape(1, -1), w2_vector.reshape(1, -1))\n",
    "        oov += 1\n",
    "    \n",
    "    preds_all.append(pred)\n",
    "    gold_all.append(pairs[2])\n",
    "        \n",
    "\n",
    "print(spearmanr(preds_vocab, gold_vocab)[0], f\", tested {tested}/{len(wordsim_scores)} pairs\")\n",
    "print(spearmanr(preds_all, gold_all)[0], f\", including OOV\")"
   ]
  },
  {
   "cell_type": "code",
   "execution_count": null,
   "id": "dba8dd7d-97a2-4354-b7ce-73198203928d",
   "metadata": {},
   "outputs": [],
   "source": []
  }
 ],
 "metadata": {
  "kernel_info": {
   "name": "python38-azureml"
  },
  "kernelspec": {
   "display_name": "default:Python",
   "language": "python",
   "name": "conda-env-default-py"
  },
  "language_info": {
   "codemirror_mode": {
    "name": "ipython",
    "version": 3
   },
   "file_extension": ".py",
   "mimetype": "text/x-python",
   "name": "python",
   "nbconvert_exporter": "python",
   "pygments_lexer": "ipython3",
   "version": "3.9.12"
  },
  "microsoft": {
   "host": {
    "AzureML": {
     "notebookHasBeenCompleted": true
    }
   },
   "ms_spell_check": {
    "ms_spell_check_language": "en"
   }
  },
  "nteract": {
   "version": "nteract-front-end@1.0.0"
  }
 },
 "nbformat": 4,
 "nbformat_minor": 5
}
