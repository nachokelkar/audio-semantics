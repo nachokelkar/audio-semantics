{
  "cells": [
    {
      "cell_type": "markdown",
      "source": [
        "# Thesis - Step 1\n",
        "\n",
        "Using pure text data to get best similarity scores."
      ],
      "metadata": {},
      "id": "2c355c92-8b8c-4161-b033-3becc7bdd33a"
    },
    {
      "cell_type": "code",
      "source": [
        "import os\n",
        "import numpy as np"
      ],
      "outputs": [],
      "execution_count": 1,
      "metadata": {
        "gather": {
          "logged": 1679952981032
        }
      },
      "id": "57f10954-bf97-4afc-afc5-ec3ab2f55994"
    },
    {
      "cell_type": "markdown",
      "source": [
        "## Approach 1.1 - SentencePiece + FastText\n",
        "\n",
        "This approach uses SentencePiece on text data with only the letters to try and find words."
      ],
      "metadata": {},
      "id": "ad2c9adf-f4ec-4b4a-873b-2c226205bd77"
    },
    {
      "cell_type": "code",
      "source": [
        "from gensim.models.fasttext import FastText\n",
        "from gensim.models.word2vec import Word2Vec\n",
        "import sentencepiece as spm"
      ],
      "outputs": [],
      "execution_count": 2,
      "metadata": {
        "gather": {
          "logged": 1679952981900
        }
      },
      "id": "e7d6f33c-b3ad-4f9e-8a71-d131915b1b64"
    },
    {
      "cell_type": "code",
      "source": [
        "input_file = os.getcwd() + \"/data/gutenberg_no_spaces.txt\"\n",
        "max_sentence_length = 180000\n",
        "vocab_size = 2000\n",
        "model_type = \"unigram\"\n",
        "SP_MODEL_NAME = f\"./models/{model_type}_{vocab_size}_v3\""
      ],
      "outputs": [],
      "execution_count": 3,
      "metadata": {
        "gather": {
          "logged": 1679952982005
        }
      },
      "id": "3ec298bb-7639-4c4d-983b-75ed45c38643"
    },
    {
      "cell_type": "code",
      "source": [
        "# train sentencepiece model from `botchan.txt` and makes `m.model` and `m.vocab`\n",
        "# `m.vocab` is just a reference. not used in the segmentation.\n",
        "spm.SentencePieceTrainer.train(\n",
        "    f\"--input={input_file} \" \\\n",
        "    f\"--model_type={model_type} \" \\\n",
        "    f\"--model_prefix={SP_MODEL_NAME} \" \\\n",
        "    f\"--vocab_size={vocab_size} \" \\\n",
        "    f\"--max_sentence_length={max_sentence_length} \" \\\n",
        "    f\"--train_extremely_large_corpus\"\n",
        ")"
      ],
      "outputs": [],
      "execution_count": null,
      "metadata": {
        "gather": {
          "logged": 1679952961485
        }
      },
      "id": "dd64cda8-e4db-4816-934a-3bd87dcf0f5e"
    },
    {
      "cell_type": "code",
      "source": [
        "# makes segmenter instance and loads the model file (m.model)\n",
        "sp = spm.SentencePieceProcessor()\n",
        "sp.load(f\"{SP_MODEL_NAME}.model\")\n",
        "\n",
        "# encode: text => id\n",
        "print(sp.EncodeAsPieces('apple'))\n",
        "print(sp.encode_as_ids('boyhood'))\n",
        "print(sp.encode_as_ids('man'))"
      ],
      "outputs": [],
      "execution_count": null,
      "metadata": {
        "gather": {
          "logged": 1679952607128
        }
      },
      "id": "0c205055-8cb3-4391-b73d-acfaa9c1ef53"
    },
    {
      "cell_type": "markdown",
      "source": [
        "Saving the vocabulary created by SentencePiece"
      ],
      "metadata": {
        "nteract": {
          "transient": {
            "deleting": false
          }
        }
      },
      "id": "e72c9453-50a4-4e22-8ebd-7020fefe4609"
    },
    {
      "cell_type": "code",
      "source": [
        "vocab = {}\n",
        "with open(f\"{model_name}.vocab\", \"r\", encoding=\"utf-8\") as f:\n",
        "    for line in f:\n",
        "        word, freq = line.strip().split('\\t')\n",
        "        vocab[word] = np.exp(float(freq))\n"
      ],
      "outputs": [],
      "execution_count": 4,
      "metadata": {
        "gather": {
          "logged": 1679952308686
        }
      },
      "id": "9979009c-5718-4dfd-9e9b-2ccbc3bc00db"
    },
    {
      "cell_type": "code",
      "source": [
        "with open(\"data/gutenberg_no_spaces.txt\") as corpus_file:\n",
        "    corpus = corpus_file.readlines()\n",
        "\n",
        "sentences = [[' '.join(sp.EncodeAsPieces(sentence)) for sentence in corpus]]"
      ],
      "outputs": [
        {
          "output_type": "error",
          "ename": "NameError",
          "evalue": "name 'sp' is not defined",
          "traceback": [
            "\u001b[0;31m---------------------------------------------------------------------------\u001b[0m",
            "\u001b[0;31mNameError\u001b[0m                                 Traceback (most recent call last)",
            "Cell \u001b[0;32mIn[5], line 4\u001b[0m\n\u001b[1;32m      1\u001b[0m \u001b[38;5;28;01mwith\u001b[39;00m \u001b[38;5;28mopen\u001b[39m(\u001b[38;5;124m\"\u001b[39m\u001b[38;5;124mdata/gutenberg_no_spaces.txt\u001b[39m\u001b[38;5;124m\"\u001b[39m) \u001b[38;5;28;01mas\u001b[39;00m corpus_file:\n\u001b[1;32m      2\u001b[0m     corpus \u001b[38;5;241m=\u001b[39m corpus_file\u001b[38;5;241m.\u001b[39mreadlines()\n\u001b[0;32m----> 4\u001b[0m sentences \u001b[38;5;241m=\u001b[39m [[\u001b[38;5;124m'\u001b[39m\u001b[38;5;124m \u001b[39m\u001b[38;5;124m'\u001b[39m\u001b[38;5;241m.\u001b[39mjoin(sp\u001b[38;5;241m.\u001b[39mEncodeAsPieces(sentence)) \u001b[38;5;28;01mfor\u001b[39;00m sentence \u001b[38;5;129;01min\u001b[39;00m corpus]]\n",
            "Cell \u001b[0;32mIn[5], line 4\u001b[0m, in \u001b[0;36m<listcomp>\u001b[0;34m(.0)\u001b[0m\n\u001b[1;32m      1\u001b[0m \u001b[38;5;28;01mwith\u001b[39;00m \u001b[38;5;28mopen\u001b[39m(\u001b[38;5;124m\"\u001b[39m\u001b[38;5;124mdata/gutenberg_no_spaces.txt\u001b[39m\u001b[38;5;124m\"\u001b[39m) \u001b[38;5;28;01mas\u001b[39;00m corpus_file:\n\u001b[1;32m      2\u001b[0m     corpus \u001b[38;5;241m=\u001b[39m corpus_file\u001b[38;5;241m.\u001b[39mreadlines()\n\u001b[0;32m----> 4\u001b[0m sentences \u001b[38;5;241m=\u001b[39m [[\u001b[38;5;124m'\u001b[39m\u001b[38;5;124m \u001b[39m\u001b[38;5;124m'\u001b[39m\u001b[38;5;241m.\u001b[39mjoin(\u001b[43msp\u001b[49m\u001b[38;5;241m.\u001b[39mEncodeAsPieces(sentence)) \u001b[38;5;28;01mfor\u001b[39;00m sentence \u001b[38;5;129;01min\u001b[39;00m corpus]]\n",
            "\u001b[0;31mNameError\u001b[0m: name 'sp' is not defined"
          ]
        }
      ],
      "execution_count": 5,
      "metadata": {
        "jupyter": {
          "source_hidden": false,
          "outputs_hidden": false
        },
        "nteract": {
          "transient": {
            "deleting": false
          }
        },
        "gather": {
          "logged": 1679952317690
        }
      },
      "id": "10091f5e-499d-4301-a19f-3ba88bf86e86"
    },
    {
      "cell_type": "markdown",
      "source": [
        "### Approach 1.1 - Using FastText"
      ],
      "metadata": {
        "nteract": {
          "transient": {
            "deleting": false
          }
        }
      },
      "id": "5ef3c7f6-c1cc-4467-afa9-bb3ffc922005"
    },
    {
      "cell_type": "code",
      "source": [
        "model = FastText(size=150, window=5, min_count=0)\n",
        "model.build_vocab_from_freq(vocab)\n",
        "model.train(sentences, total_examples=len(sentences), epochs=5)"
      ],
      "outputs": [],
      "execution_count": null,
      "metadata": {
        "jupyter": {
          "source_hidden": false,
          "outputs_hidden": false
        },
        "nteract": {
          "transient": {
            "deleting": false
          }
        },
        "gather": {
          "logged": 1679686230516
        }
      },
      "id": "6b780228-35b0-40f9-b8e7-3abc5260839f"
    },
    {
      "cell_type": "code",
      "source": [
        "model.save(\"models/fasttext_150_v1\")"
      ],
      "outputs": [],
      "execution_count": 16,
      "metadata": {
        "jupyter": {
          "source_hidden": false,
          "outputs_hidden": false
        },
        "nteract": {
          "transient": {
            "deleting": false
          }
        },
        "gather": {
          "logged": 1679686314762
        }
      },
      "id": "9c153352-9f44-4dfd-85e4-9e5eb4b433d7"
    },
    {
      "cell_type": "code",
      "source": [
        "model.wv.similarity(\"plane\", \"car\")"
      ],
      "outputs": [],
      "execution_count": null,
      "metadata": {
        "jupyter": {
          "source_hidden": false,
          "outputs_hidden": false
        },
        "nteract": {
          "transient": {
            "deleting": false
          }
        },
        "gather": {
          "logged": 1679940983823
        }
      },
      "id": "8068fbb5-d0f8-411e-b4ec-4ac08bcdf534"
    },
    {
      "cell_type": "markdown",
      "source": [
        "### Approach 1.2 - Word2Vec"
      ],
      "metadata": {
        "nteract": {
          "transient": {
            "deleting": false
          }
        }
      },
      "id": "9ab30628-7d4a-48ec-9e38-5027e7a06a59"
    },
    {
      "cell_type": "code",
      "source": [
        "W2V_MODEL_PATH = \"models/w2v_100_v1.model\""
      ],
      "outputs": [],
      "execution_count": null,
      "metadata": {
        "jupyter": {
          "source_hidden": false,
          "outputs_hidden": false
        },
        "nteract": {
          "transient": {
            "deleting": false
          }
        }
      },
      "id": "de00c3bf-0be8-4256-9ada-b25b580268e5"
    },
    {
      "cell_type": "code",
      "source": [
        "model = Word2Vec(window=5, min_count=0, workers=4)\n",
        "model.build_vocab(sentences)"
      ],
      "outputs": [],
      "execution_count": 11,
      "metadata": {
        "jupyter": {
          "source_hidden": false,
          "outputs_hidden": false
        },
        "nteract": {
          "transient": {
            "deleting": false
          }
        },
        "gather": {
          "logged": 1679951822832
        }
      },
      "id": "bdaf5159-36c3-4638-bb3e-8deb8d8ea6d4"
    },
    {
      "cell_type": "code",
      "source": [
        "model.train(\n",
        "    sentences,\n",
        "    total_examples=model.corpus_count,\n",
        "    epochs=10\n",
        ")\n",
        "\n",
        "model.save(W2V_MODEL_PATH)"
      ],
      "outputs": [
        {
          "output_type": "execute_result",
          "execution_count": 12,
          "data": {
            "text/plain": "(14380, 14380)"
          },
          "metadata": {}
        }
      ],
      "execution_count": 12,
      "metadata": {
        "jupyter": {
          "source_hidden": false,
          "outputs_hidden": false
        },
        "nteract": {
          "transient": {
            "deleting": false
          }
        },
        "gather": {
          "logged": 1679951822946
        }
      },
      "id": "cba718e9-7e56-4962-8f55-2896b45c274a"
    },
    {
      "cell_type": "code",
      "source": [
        "model = Word2Vec.load(W2V_MODEL_PATH)"
      ],
      "outputs": [],
      "execution_count": null,
      "metadata": {
        "jupyter": {
          "source_hidden": false,
          "outputs_hidden": false
        },
        "nteract": {
          "transient": {
            "deleting": false
          }
        }
      },
      "id": "d0f2a252-1d31-477d-8f7d-85e9e582dce5"
    },
    {
      "cell_type": "code",
      "source": [
        "model.load()"
      ],
      "outputs": [],
      "execution_count": 18,
      "metadata": {
        "jupyter": {
          "source_hidden": false,
          "outputs_hidden": false
        },
        "nteract": {
          "transient": {
            "deleting": false
          }
        },
        "gather": {
          "logged": 1679941038747
        }
      },
      "id": "da47fca0-c483-42cb-9682-7bde68218800"
    },
    {
      "cell_type": "code",
      "source": [
        "list(model.wv.vocab.keys())"
      ],
      "outputs": [],
      "execution_count": 17,
      "metadata": {
        "jupyter": {
          "source_hidden": false,
          "outputs_hidden": false
        },
        "nteract": {
          "transient": {
            "deleting": false
          }
        },
        "gather": {
          "logged": 1679952177665
        }
      },
      "id": "e6de1388-6357-44fc-aae0-62695567bb70"
    },
    {
      "cell_type": "markdown",
      "source": [
        "## Approach 2 - SGT"
      ],
      "metadata": {
        "nteract": {
          "transient": {
            "deleting": false
          }
        }
      },
      "id": "30ad6866-adfc-4bef-a920-43f40bf70441"
    },
    {
      "cell_type": "code",
      "source": [
        "from sgt import SGT"
      ],
      "outputs": [],
      "execution_count": 4,
      "metadata": {
        "jupyter": {
          "source_hidden": false,
          "outputs_hidden": false
        },
        "nteract": {
          "transient": {
            "deleting": false
          }
        },
        "gather": {
          "logged": 1679686719830
        }
      },
      "id": "696fe546-61db-4ddd-96d8-bb63c9954d5f"
    },
    {
      "cell_type": "code",
      "source": [
        "with open(\"data/gutenberg_no_spaces.txt\") as corpus_file:\n",
        "    corpus = list(\"\".join(corpus_file.readlines()))"
      ],
      "outputs": [],
      "execution_count": 5,
      "metadata": {
        "jupyter": {
          "source_hidden": false,
          "outputs_hidden": false
        },
        "nteract": {
          "transient": {
            "deleting": false
          }
        },
        "gather": {
          "logged": 1679686738463
        }
      },
      "id": "74121a6d-9f10-4029-8129-3f7081a42c05"
    },
    {
      "cell_type": "code",
      "source": [
        "sgt = SGT(\n",
        "    kappa=10, \n",
        "    flatten=True, \n",
        "    lengthsensitive=True, \n",
        "    mode='default'\n",
        ")\n",
        "\n",
        "embeddings = sgt.fit(corpus[:100000])"
      ],
      "outputs": [],
      "execution_count": 11,
      "metadata": {
        "jupyter": {
          "source_hidden": false,
          "outputs_hidden": false
        },
        "nteract": {
          "transient": {
            "deleting": false
          }
        },
        "gather": {
          "logged": 1679687089179
        }
      },
      "id": "63861635-2a3e-46b6-be01-d684eb4c1655"
    },
    {
      "cell_type": "code",
      "source": [
        "embeddings[0]"
      ],
      "outputs": [],
      "execution_count": null,
      "metadata": {
        "jupyter": {
          "source_hidden": false,
          "outputs_hidden": false
        },
        "nteract": {
          "transient": {
            "deleting": false
          }
        },
        "gather": {
          "logged": 1679687012064
        }
      },
      "id": "375f8195-d9dc-4914-b204-c5b9f21071be"
    },
    {
      "cell_type": "code",
      "source": [],
      "outputs": [],
      "execution_count": null,
      "metadata": {
        "jupyter": {
          "source_hidden": false,
          "outputs_hidden": false
        },
        "nteract": {
          "transient": {
            "deleting": false
          }
        }
      },
      "id": "7d2ebfd2-4549-4926-bcb8-67994ab9ebc4"
    }
  ],
  "metadata": {
    "kernelspec": {
      "name": "python38-azureml",
      "language": "python",
      "display_name": "Python 3.8 - AzureML"
    },
    "language_info": {
      "name": "python",
      "version": "3.8.10",
      "mimetype": "text/x-python",
      "codemirror_mode": {
        "name": "ipython",
        "version": 3
      },
      "pygments_lexer": "ipython3",
      "nbconvert_exporter": "python",
      "file_extension": ".py"
    },
    "microsoft": {
      "ms_spell_check": {
        "ms_spell_check_language": "en"
      },
      "host": {
        "AzureML": {
          "notebookHasBeenCompleted": true
        }
      }
    },
    "kernel_info": {
      "name": "python38-azureml"
    },
    "nteract": {
      "version": "nteract-front-end@1.0.0"
    }
  },
  "nbformat": 4,
  "nbformat_minor": 5
}