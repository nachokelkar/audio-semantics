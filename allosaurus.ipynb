{
 "cells": [
  {
   "cell_type": "markdown",
   "metadata": {},
   "source": [
    "# Using SentencePiece and W2V on Allosaurus transcriptions"
   ]
  },
  {
   "cell_type": "code",
   "execution_count": 2,
   "metadata": {},
   "outputs": [],
   "source": [
    "import sentencepiece as spm"
   ]
  },
  {
   "cell_type": "code",
   "execution_count": 1,
   "metadata": {},
   "outputs": [],
   "source": [
    "input_file = \"/Users/pranavkelkar/Work/thesis/audio-semantics/data/LibriSpeech/allosaurus_transcription.txt\"\n",
    "sp_model_tag = \"allosaurus\"\n",
    "max_sentence_length = 20000\n",
    "vocab_size = 60000\n",
    "model_type = \"unigram\"\n",
    "SP_MODEL_NAME = f\"models/{model_type}_vs{vocab_size}_{sp_model_tag}\""
   ]
  },
  {
   "cell_type": "code",
   "execution_count": 3,
   "metadata": {},
   "outputs": [
    {
     "name": "stderr",
     "output_type": "stream",
     "text": [
      "sentencepiece_trainer.cc(177) LOG(INFO) Running command: --input=/Users/pranavkelkar/Work/thesis/audio-semantics/data/LibriSpeech/allosaurus_transcription.txt --model_type=unigram --model_prefix=models/unigram_vs60000_allosaurus --vocab_size=60000 --max_sentence_length=20000 --train_extremely_large_corpus\n",
      "sentencepiece_trainer.cc(77) LOG(INFO) Starts training with : \n",
      "trainer_spec {\n",
      "  input: /Users/pranavkelkar/Work/thesis/audio-semantics/data/LibriSpeech/allosaurus_transcription.txt\n",
      "  input_format: \n",
      "  model_prefix: models/unigram_vs60000_allosaurus\n",
      "  model_type: UNIGRAM\n",
      "  vocab_size: 60000\n",
      "  self_test_sample_size: 0\n",
      "  character_coverage: 0.9995\n",
      "  input_sentence_size: 0\n",
      "  shuffle_input_sentence: 1\n",
      "  seed_sentencepiece_size: 1000000\n",
      "  shrinking_factor: 0.75\n",
      "  max_sentence_length: 20000\n",
      "  num_threads: 16\n",
      "  num_sub_iterations: 2\n",
      "  max_sentencepiece_length: 16\n",
      "  split_by_unicode_script: 1\n",
      "  split_by_number: 1\n",
      "  split_by_whitespace: 1\n",
      "  split_digits: 0\n",
      "  pretokenization_delimiter: \n",
      "  treat_whitespace_as_suffix: 0\n",
      "  allow_whitespace_only_pieces: 0\n",
      "  required_chars: \n",
      "  byte_fallback: 0\n",
      "  vocabulary_output_piece_score: 1\n",
      "  train_extremely_large_corpus: 1\n",
      "  hard_vocab_limit: 1\n",
      "  use_all_vocab: 0\n",
      "  unk_id: 0\n",
      "  bos_id: 1\n",
      "  eos_id: 2\n",
      "  pad_id: -1\n",
      "  unk_piece: <unk>\n",
      "  bos_piece: <s>\n",
      "  eos_piece: </s>\n",
      "  pad_piece: <pad>\n",
      "  unk_surface:  ⁇ \n",
      "  enable_differential_privacy: 0\n",
      "  differential_privacy_noise_level: 0\n",
      "  differential_privacy_clipping_threshold: 0\n",
      "}\n",
      "normalizer_spec {\n",
      "  name: nmt_nfkc\n",
      "  add_dummy_prefix: 1\n",
      "  remove_extra_whitespaces: 1\n",
      "  escape_whitespaces: 1\n",
      "  normalization_rule_tsv: \n",
      "}\n",
      "denormalizer_spec {}\n",
      "trainer_interface.cc(351) LOG(INFO) SentenceIterator is not specified. Using MultiFileSentenceIterator.\n",
      "trainer_interface.cc(183) LOG(INFO) Loading corpus: /Users/pranavkelkar/Work/thesis/audio-semantics/data/LibriSpeech/allosaurus_transcription.txt\n",
      "trainer_interface.cc(407) LOG(INFO) Loaded all 281241 sentences\n",
      "trainer_interface.cc(423) LOG(INFO) Adding meta_piece: <unk>\n",
      "trainer_interface.cc(423) LOG(INFO) Adding meta_piece: <s>\n",
      "trainer_interface.cc(423) LOG(INFO) Adding meta_piece: </s>\n",
      "trainer_interface.cc(428) LOG(INFO) Normalizing sentences...\n",
      "trainer_interface.cc(537) LOG(INFO) all chars count=31272302\n",
      "trainer_interface.cc(558) LOG(INFO) Alphabet size=29\n",
      "trainer_interface.cc(559) LOG(INFO) Final character coverage=1\n",
      "trainer_interface.cc(591) LOG(INFO) Done! preprocessed 281241 sentences.\n",
      "unigram_model_trainer.cc(222) LOG(INFO) Making suffix array...\n",
      "unigram_model_trainer.cc(226) LOG(INFO) Extracting frequent sub strings... node_num=12096884\n",
      "unigram_model_trainer.cc(274) LOG(INFO) Initialized 1000029 seed sentencepieces\n",
      "trainer_interface.cc(597) LOG(INFO) Tokenizing input sentences with whitespace: 281241\n",
      "trainer_interface.cc(608) LOG(INFO) Done! 281237\n",
      "unigram_model_trainer.cc(564) LOG(INFO) Using 281237 sentences for EM training\n",
      "unigram_model_trainer.cc(580) LOG(INFO) EM sub_iter=0 size=822148 obj=255.465 num_tokens=5710619 num_tokens/piece=6.94597\n",
      "unigram_model_trainer.cc(580) LOG(INFO) EM sub_iter=1 size=655533 obj=246.806 num_tokens=5833818 num_tokens/piece=8.89935\n",
      "unigram_model_trainer.cc(580) LOG(INFO) EM sub_iter=0 size=482967 obj=245.419 num_tokens=5957397 num_tokens/piece=12.335\n",
      "unigram_model_trainer.cc(580) LOG(INFO) EM sub_iter=1 size=460167 obj=244.149 num_tokens=6031667 num_tokens/piece=13.1076\n",
      "unigram_model_trainer.cc(580) LOG(INFO) EM sub_iter=0 size=344722 obj=244.489 num_tokens=6164282 num_tokens/piece=17.8819\n",
      "unigram_model_trainer.cc(580) LOG(INFO) EM sub_iter=1 size=343539 obj=243.675 num_tokens=6205097 num_tokens/piece=18.0623\n",
      "unigram_model_trainer.cc(580) LOG(INFO) EM sub_iter=0 size=257641 obj=244.531 num_tokens=6367794 num_tokens/piece=24.7158\n",
      "unigram_model_trainer.cc(580) LOG(INFO) EM sub_iter=1 size=257579 obj=243.654 num_tokens=6394976 num_tokens/piece=24.8272\n",
      "unigram_model_trainer.cc(580) LOG(INFO) EM sub_iter=0 size=193184 obj=244.854 num_tokens=6589082 num_tokens/piece=34.1078\n",
      "unigram_model_trainer.cc(580) LOG(INFO) EM sub_iter=1 size=193183 obj=243.852 num_tokens=6612026 num_tokens/piece=34.2267\n",
      "unigram_model_trainer.cc(580) LOG(INFO) EM sub_iter=0 size=144887 obj=245.288 num_tokens=6826429 num_tokens/piece=47.1155\n",
      "unigram_model_trainer.cc(580) LOG(INFO) EM sub_iter=1 size=144887 obj=244.184 num_tokens=6846733 num_tokens/piece=47.2557\n",
      "unigram_model_trainer.cc(580) LOG(INFO) EM sub_iter=0 size=108665 obj=245.803 num_tokens=7077559 num_tokens/piece=65.1319\n",
      "unigram_model_trainer.cc(580) LOG(INFO) EM sub_iter=1 size=108665 obj=244.628 num_tokens=7097298 num_tokens/piece=65.3136\n",
      "unigram_model_trainer.cc(580) LOG(INFO) EM sub_iter=0 size=81498 obj=246.391 num_tokens=7332778 num_tokens/piece=89.9749\n",
      "unigram_model_trainer.cc(580) LOG(INFO) EM sub_iter=1 size=81498 obj=245.19 num_tokens=7351939 num_tokens/piece=90.2101\n",
      "unigram_model_trainer.cc(580) LOG(INFO) EM sub_iter=0 size=66000 obj=246.564 num_tokens=7533758 num_tokens/piece=114.148\n",
      "unigram_model_trainer.cc(580) LOG(INFO) EM sub_iter=1 size=66000 obj=245.668 num_tokens=7551244 num_tokens/piece=114.413\n",
      "trainer_interface.cc(686) LOG(INFO) Saving model: models/unigram_vs60000_allosaurus.model\n",
      "trainer_interface.cc(698) LOG(INFO) Saving vocabs: models/unigram_vs60000_allosaurus.vocab\n"
     ]
    }
   ],
   "source": [
    "# train sentencepiece model from `botchan.txt` and makes `m.model` and `m.vocab`\n",
    "# `m.vocab` is just a reference. not used in the segmentation.\n",
    "spm.SentencePieceTrainer.train(\n",
    "    f\"--input={input_file} \" \\\n",
    "    f\"--model_type={model_type} \" \\\n",
    "    f\"--model_prefix={SP_MODEL_NAME} \" \\\n",
    "    f\"--vocab_size={vocab_size} \" \\\n",
    "    f\"--max_sentence_length={max_sentence_length} \" \\\n",
    "    f\"--train_extremely_large_corpus\"\n",
    ")"
   ]
  },
  {
   "cell_type": "code",
   "execution_count": 4,
   "metadata": {},
   "outputs": [
    {
     "data": {
      "text/plain": [
       "True"
      ]
     },
     "execution_count": 4,
     "metadata": {},
     "output_type": "execute_result"
    }
   ],
   "source": [
    "# Convert sentences to token sequences\n",
    "sp_model = spm.SentencePieceProcessor()\n",
    "sp_model.load(f\"{SP_MODEL_NAME}.model\")"
   ]
  },
  {
   "cell_type": "code",
   "execution_count": 5,
   "metadata": {},
   "outputs": [],
   "source": [
    "with open(input_file) as corpus_file:\n",
    "    corpus = corpus_file.readlines()\n",
    "\n",
    "sentences = [sp_model.EncodeAsPieces(sentence) for sentence in corpus]"
   ]
  },
  {
   "cell_type": "code",
   "execution_count": 6,
   "metadata": {},
   "outputs": [],
   "source": [
    "from gensim.models.word2vec import Word2Vec"
   ]
  },
  {
   "cell_type": "code",
   "execution_count": 8,
   "metadata": {},
   "outputs": [],
   "source": [
    "window = 5\n",
    "vector_size = 150\n",
    "W2V_MODEL_PATH = f\"models/allo_w2v_vs{vector_size}_w{5}.model\""
   ]
  },
  {
   "cell_type": "code",
   "execution_count": 10,
   "metadata": {},
   "outputs": [],
   "source": [
    "w2v_model = Word2Vec(sentences, vector_size=vector_size, window=window, min_count=0, workers=4)\n",
    "w2v_model.save(W2V_MODEL_PATH)"
   ]
  },
  {
   "cell_type": "code",
   "execution_count": null,
   "metadata": {},
   "outputs": [],
   "source": []
  }
 ],
 "metadata": {
  "kernelspec": {
   "display_name": "venv",
   "language": "python",
   "name": "python3"
  },
  "language_info": {
   "codemirror_mode": {
    "name": "ipython",
    "version": 3
   },
   "file_extension": ".py",
   "mimetype": "text/x-python",
   "name": "python",
   "nbconvert_exporter": "python",
   "pygments_lexer": "ipython3",
   "version": "3.9.17"
  },
  "orig_nbformat": 4
 },
 "nbformat": 4,
 "nbformat_minor": 2
}
