{
 "cells": [
  {
   "attachments": {},
   "cell_type": "markdown",
   "metadata": {},
   "source": [
    "# Step 4 - Work on Speech"
   ]
  },
  {
   "attachments": {},
   "cell_type": "markdown",
   "metadata": {},
   "source": [
    "## Preprocessing the dataset"
   ]
  },
  {
   "cell_type": "code",
   "execution_count": 1,
   "metadata": {},
   "outputs": [],
   "source": [
    "dataset = []"
   ]
  },
  {
   "cell_type": "code",
   "execution_count": 2,
   "metadata": {},
   "outputs": [],
   "source": [
    "with open(\"data/quantized/LibriSpeech/train-full-960/quantized_outputs.txt\") as input_file:\n",
    "    for line in input_file.readlines():\n",
    "        dataset.append(\n",
    "            line.split(\"\\t\")[1].split(\",\")[1:]  # Exclude ID and get only data\n",
    "        )"
   ]
  },
  {
   "cell_type": "code",
   "execution_count": 14,
   "metadata": {},
   "outputs": [],
   "source": [
    "# Assign a character to each number\n",
    "import string\n",
    "letters = {\n",
    "    i: key for i, key in enumerate(string.ascii_letters)\n",
    "}"
   ]
  },
  {
   "cell_type": "code",
   "execution_count": 4,
   "metadata": {},
   "outputs": [],
   "source": [
    "char_dataset = [\n",
    "    [letters[int(v)] for i, v in enumerate(line) if i == 0 or v != line[i - 1]]\n",
    "    for line in dataset\n",
    "]"
   ]
  },
  {
   "cell_type": "code",
   "execution_count": 2,
   "metadata": {},
   "outputs": [],
   "source": [
    "# Write new data to a file\n",
    "char_dataset_filepath = \"data/quantized_dataset.txt\""
   ]
  },
  {
   "cell_type": "code",
   "execution_count": 6,
   "metadata": {},
   "outputs": [],
   "source": [
    "with open(char_dataset_filepath, \"w+\", encoding=\"utf-8\") as char_ds_fp:\n",
    "    for line in char_dataset:\n",
    "        char_ds_fp.write(\"\".join(line) + \"\\n\")"
   ]
  },
  {
   "attachments": {},
   "cell_type": "markdown",
   "metadata": {},
   "source": [
    "## Run SentencePiece on new dataset"
   ]
  },
  {
   "cell_type": "code",
   "execution_count": 3,
   "metadata": {},
   "outputs": [],
   "source": [
    "import sentencepiece as spm"
   ]
  },
  {
   "cell_type": "code",
   "execution_count": 4,
   "metadata": {},
   "outputs": [],
   "source": [
    "input_file = char_dataset_filepath\n",
    "version = \"s4\"\n",
    "max_sentence_length = 5003\n",
    "vocab_size = 19099\n",
    "model_type = \"unigram\"\n",
    "SP_MODEL_NAME = f\"models/{model_type}_vs{vocab_size}_{version}\""
   ]
  },
  {
   "cell_type": "code",
   "execution_count": 9,
   "metadata": {},
   "outputs": [],
   "source": [
    "# train sentencepiece model from `botchan.txt` and makes `m.model` and `m.vocab`\n",
    "# `m.vocab` is just a reference. not used in the segmentation.\n",
    "spm.SentencePieceTrainer.train(\n",
    "    f\"--input={input_file} \" \\\n",
    "    f\"--model_type={model_type} \" \\\n",
    "    f\"--model_prefix={SP_MODEL_NAME} \" \\\n",
    "    f\"--vocab_size={vocab_size} \" \\\n",
    "    f\"--max_sentence_length={max_sentence_length} \" \\\n",
    "    f\"--train_extremely_large_corpus\"\n",
    ")"
   ]
  },
  {
   "cell_type": "code",
   "execution_count": 5,
   "metadata": {},
   "outputs": [
    {
     "data": {
      "text/plain": [
       "True"
      ]
     },
     "execution_count": 5,
     "metadata": {},
     "output_type": "execute_result"
    }
   ],
   "source": [
    "# Convert sentences to token sequences\n",
    "sp = spm.SentencePieceProcessor()\n",
    "sp.load(f\"{SP_MODEL_NAME}.model\")"
   ]
  },
  {
   "cell_type": "code",
   "execution_count": 6,
   "metadata": {},
   "outputs": [
    {
     "ename": "KeyboardInterrupt",
     "evalue": "",
     "output_type": "error",
     "traceback": [
      "\u001b[1;31m---------------------------------------------------------------------------\u001b[0m",
      "\u001b[1;31mKeyboardInterrupt\u001b[0m                         Traceback (most recent call last)",
      "Cell \u001b[1;32mIn[6], line 4\u001b[0m\n\u001b[0;32m      1\u001b[0m \u001b[39mwith\u001b[39;00m \u001b[39mopen\u001b[39m(input_file) \u001b[39mas\u001b[39;00m corpus_file:\n\u001b[0;32m      2\u001b[0m     corpus \u001b[39m=\u001b[39m corpus_file\u001b[39m.\u001b[39mreadlines()\n\u001b[1;32m----> 4\u001b[0m sentences \u001b[39m=\u001b[39m [sp\u001b[39m.\u001b[39;49mEncodeAsPieces(sentence) \u001b[39mfor\u001b[39;49;00m sentence \u001b[39min\u001b[39;49;00m corpus]\n",
      "Cell \u001b[1;32mIn[6], line 4\u001b[0m, in \u001b[0;36m<listcomp>\u001b[1;34m(.0)\u001b[0m\n\u001b[0;32m      1\u001b[0m \u001b[39mwith\u001b[39;00m \u001b[39mopen\u001b[39m(input_file) \u001b[39mas\u001b[39;00m corpus_file:\n\u001b[0;32m      2\u001b[0m     corpus \u001b[39m=\u001b[39m corpus_file\u001b[39m.\u001b[39mreadlines()\n\u001b[1;32m----> 4\u001b[0m sentences \u001b[39m=\u001b[39m [sp\u001b[39m.\u001b[39;49mEncodeAsPieces(sentence) \u001b[39mfor\u001b[39;00m sentence \u001b[39min\u001b[39;00m corpus]\n",
      "File \u001b[1;32mc:\\Users\\mj115gl\\work_dir\\thesis\\audio-semantics\\venv\\Lib\\site-packages\\sentencepiece\\__init__.py:545\u001b[0m, in \u001b[0;36mSentencePieceProcessor.EncodeAsPieces\u001b[1;34m(self, input, **kwargs)\u001b[0m\n\u001b[0;32m    544\u001b[0m \u001b[39mdef\u001b[39;00m \u001b[39mEncodeAsPieces\u001b[39m(\u001b[39mself\u001b[39m, \u001b[39minput\u001b[39m, \u001b[39m*\u001b[39m\u001b[39m*\u001b[39mkwargs):\n\u001b[1;32m--> 545\u001b[0m   \u001b[39mreturn\u001b[39;00m \u001b[39mself\u001b[39;49m\u001b[39m.\u001b[39;49mEncode(\u001b[39minput\u001b[39;49m\u001b[39m=\u001b[39;49m\u001b[39minput\u001b[39;49m, out_type\u001b[39m=\u001b[39;49m\u001b[39mstr\u001b[39;49m, \u001b[39m*\u001b[39;49m\u001b[39m*\u001b[39;49mkwargs)\n",
      "\u001b[1;31mKeyboardInterrupt\u001b[0m: "
     ]
    }
   ],
   "source": [
    "with open(input_file) as corpus_file:\n",
    "    corpus = corpus_file.readlines()\n",
    "\n",
    "sentences = [sp.EncodeAsPieces(sentence) for sentence in corpus]"
   ]
  },
  {
   "attachments": {},
   "cell_type": "markdown",
   "metadata": {},
   "source": [
    "## Word2Vec"
   ]
  },
  {
   "cell_type": "code",
   "execution_count": 7,
   "metadata": {},
   "outputs": [],
   "source": [
    "from gensim.models.word2vec import Word2Vec"
   ]
  },
  {
   "cell_type": "code",
   "execution_count": 8,
   "metadata": {},
   "outputs": [],
   "source": [
    "vector_size = 100\n",
    "window = 5\n",
    "W2V_MODEL_PATH = f\"models/w2v_vs{vector_size}_w{window}_{version}.model\""
   ]
  },
  {
   "cell_type": "code",
   "execution_count": 106,
   "metadata": {},
   "outputs": [],
   "source": [
    "model = Word2Vec(\n",
    "    sentences,\n",
    "    window=window,\n",
    "    vector_size=vector_size,\n",
    "    min_count=0,\n",
    "    workers=4\n",
    ")"
   ]
  },
  {
   "cell_type": "code",
   "execution_count": 107,
   "metadata": {},
   "outputs": [],
   "source": [
    "model.save(W2V_MODEL_PATH)"
   ]
  },
  {
   "attachments": {},
   "cell_type": "markdown",
   "metadata": {},
   "source": [
    "## Testing"
   ]
  },
  {
   "cell_type": "code",
   "execution_count": 9,
   "metadata": {},
   "outputs": [],
   "source": [
    "import numpy as np\n",
    "from scipy.stats import pearsonr\n",
    "from sklearn.metrics.pairwise import cosine_similarity"
   ]
  },
  {
   "cell_type": "code",
   "execution_count": 10,
   "metadata": {},
   "outputs": [],
   "source": [
    "model = Word2Vec.load(W2V_MODEL_PATH)"
   ]
  },
  {
   "cell_type": "code",
   "execution_count": 11,
   "metadata": {},
   "outputs": [],
   "source": [
    "word_to_key = {}\n",
    "key_to_word = {}\n",
    "\n",
    "with open(\"data/quantized/dev-gold.csv\", \"r\") as key_file:\n",
    "    for line in key_file.readlines()[1:]:\n",
    "        dataset, key, _, word = line.strip().split(\",\")\n",
    "        if word not in word_to_key:\n",
    "            word_to_key[word] = {\n",
    "                'librispeech': [],\n",
    "                'synthetic': []\n",
    "            }\n",
    "        word_to_key[word][dataset].append(key)\n",
    "        key_to_word[key] = word"
   ]
  },
  {
   "cell_type": "code",
   "execution_count": 12,
   "metadata": {},
   "outputs": [],
   "source": [
    "sim_pairs = []\n",
    "rel_pairs = []\n",
    "\n",
    "with open(\"data/quantized/dev-pairs.csv\", \"r\") as pairs_file:\n",
    "    for line in pairs_file.readlines()[1:]:\n",
    "        dataset, _, w1, w2, sim, rel = line.strip().split(\",\")\n",
    "        if sim:\n",
    "            sim_pairs.append((dataset, w1, w2, float(sim)))\n",
    "        if rel:\n",
    "            rel_pairs.append((dataset, w1, w2, float(rel)))"
   ]
  },
  {
   "cell_type": "code",
   "execution_count": 15,
   "metadata": {},
   "outputs": [],
   "source": [
    "all_utterances = {\n",
    "    \"librispeech\": dict(),\n",
    "    \"synthetic\": dict()\n",
    "}\n",
    "\n",
    "for dataset in [\"librispeech\", \"synthetic\"]:\n",
    "    all_utterances[dataset] = {}\n",
    "    with open(f\"data/quantized/semantic/dev/{dataset}/quantized_outputs.txt\", \"r\") as utterance_file:\n",
    "        for line in utterance_file.readlines():\n",
    "            key, seq = line.strip().split(\"\\t\")\n",
    "            utterance = seq.split(\",\")[1:]\n",
    "\n",
    "            all_utterances[dataset][key] = \"\".join(\n",
    "                [letters[int(v)] for i, v in enumerate(utterance) if i == 0 or v != utterance[i - 1]]\n",
    "            )"
   ]
  },
  {
   "cell_type": "code",
   "execution_count": 16,
   "metadata": {},
   "outputs": [],
   "source": [
    "def get_vector_from_utterance(utterance):\n",
    "    if utterance in model.wv.key_to_index.keys():\n",
    "        return model.wv[utterance].reshape(1, -1)\n",
    "    else:\n",
    "        units = sp.EncodeAsPieces(utterance)[1:]\n",
    "        vectors = np.array([model.wv[unit] for unit in units])\n",
    "        return vectors.mean(axis=0).reshape(1, -1)"
   ]
  },
  {
   "cell_type": "code",
   "execution_count": 17,
   "metadata": {},
   "outputs": [],
   "source": [
    "similarity_scores = {\n",
    "    \"librispeech\": {\n",
    "        \"min\": [],\n",
    "        \"max\": [],\n",
    "        \"avg\": []\n",
    "    },\n",
    "    \"synthetic\": {\n",
    "        \"min\": [],\n",
    "        \"max\": [],\n",
    "        \"avg\": []\n",
    "    }\n",
    "}\n",
    "\n",
    "rels = {\n",
    "    \"librispeech\": [],\n",
    "    \"synthetic\": []\n",
    "}\n",
    "\n",
    "for pair in rel_pairs:\n",
    "    dataset, w1, w2, rel = pair\n",
    "    w1_utterances = [\n",
    "        all_utterances[dataset][key] for key in word_to_key[w1][dataset]\n",
    "    ]\n",
    "    w2_utterances = [\n",
    "        all_utterances[dataset][key] for key in word_to_key[w2][dataset]\n",
    "    ]\n",
    "\n",
    "    w1_vectors = np.array(\n",
    "        [get_vector_from_utterance(utt) for utt in w1_utterances]\n",
    "    )\n",
    "    w2_vectors = np.array(\n",
    "        [get_vector_from_utterance(utt) for utt in w2_utterances]\n",
    "    )\n",
    "\n",
    "    similarities = [cosine_similarity(i, j) for i in w1_vectors for j in w2_vectors]\n",
    "\n",
    "    similarity_scores[dataset][\"min\"].append(np.min(similarities))\n",
    "    similarity_scores[dataset][\"avg\"].append(np.mean(similarities))\n",
    "    similarity_scores[dataset][\"max\"].append(np.max(similarities))\n",
    "\n",
    "    rels[dataset].append(rel)"
   ]
  },
  {
   "cell_type": "code",
   "execution_count": 18,
   "metadata": {},
   "outputs": [],
   "source": [
    "relation_scores = {\n",
    "    dataset : {\n",
    "        variant : pearsonr(similarity_scores[dataset][variant], rels[dataset])[0] * 100\n",
    "        for variant in similarity_scores[dataset].keys()\n",
    "    }\n",
    "    for dataset in similarity_scores.keys()\n",
    "}"
   ]
  },
  {
   "cell_type": "code",
   "execution_count": 19,
   "metadata": {},
   "outputs": [
    {
     "data": {
      "text/plain": [
       "{'librispeech': {'min': -3.1689857913766253,\n",
       "  'max': 1.0426247001097995,\n",
       "  'avg': 4.31403973316277},\n",
       " 'synthetic': {'min': -0.947074629593321,\n",
       "  'max': 7.1585636775879955,\n",
       "  'avg': 2.5086080824213304}}"
      ]
     },
     "execution_count": 19,
     "metadata": {},
     "output_type": "execute_result"
    }
   ],
   "source": [
    "relation_scores"
   ]
  },
  {
   "cell_type": "code",
   "execution_count": 20,
   "metadata": {},
   "outputs": [],
   "source": [
    "def score_model():\n",
    "    similarity_scores = {\n",
    "        \"librispeech\": [],\n",
    "        \"synthetic\": []\n",
    "    }\n",
    "\n",
    "    rels = {\n",
    "        \"librispeech\": [],\n",
    "        \"synthetic\": []\n",
    "    }\n",
    "\n",
    "    with open(\"results/complete_sim.csv\", \"w+\") as sim_file:\n",
    "        for pair in rel_pairs:\n",
    "            dataset, w1, w2, rel = pair\n",
    "            w1_utterances = [\n",
    "                all_utterances[dataset][key] for key in word_to_key[w1][dataset]\n",
    "            ]\n",
    "            w2_utterances = [\n",
    "                all_utterances[dataset][key] for key in word_to_key[w2][dataset]\n",
    "            ]\n",
    "\n",
    "            w1_vectors = np.array(\n",
    "                [get_vector_from_utterance(utt) for utt in w1_utterances]\n",
    "            )\n",
    "            w2_vectors = np.array(\n",
    "                [get_vector_from_utterance(utt) for utt in w2_utterances]\n",
    "            )\n",
    "\n",
    "            for i in w1_vectors:\n",
    "                for j in w2_vectors:\n",
    "                    similarity_scores[dataset].append(cosine_similarity(i, j).item())\n",
    "                    rels[dataset].append(rel)\n",
    "            \n",
    "                    sim_file.write(\",\".join([dataset, w1, w2, str(rel), str(cosine_similarity(i, j).item())]) +\"\\n\")\n",
    "    \n",
    "    relation_scores = {\n",
    "        dataset : pearsonr(similarity_scores[dataset], rels[dataset])[0]\n",
    "        for dataset in similarity_scores.keys()\n",
    "    }\n",
    "\n",
    "    return relation_scores[\"librispeech\"], relation_scores[\"synthetic\"]"
   ]
  },
  {
   "cell_type": "code",
   "execution_count": 130,
   "metadata": {},
   "outputs": [
    {
     "name": "stdout",
     "output_type": "stream",
     "text": [
      "EPOCH 1\n",
      "(-0.0046423246703217675, -0.01537629400899047)\n",
      "EPOCH 1\n",
      "(-0.00399538003747328, -0.0009574184767618087)\n",
      "EPOCH 2\n",
      "(-0.00688183874143272, 0.005489948925172811)\n",
      "EPOCH 3\n",
      "(-0.0055788909933480995, 0.015083783158708494)\n",
      "EPOCH 4\n",
      "(-0.001837877798820318, 0.019382542929270614)\n",
      "EPOCH 5\n",
      "(-9.60048222266439e-05, 0.020482042716295983)\n",
      "EPOCH 6\n",
      "(-0.0005134024655663312, 0.016855676341710688)\n",
      "EPOCH 7\n",
      "(-0.0006238959395760472, 0.019971789292400594)\n",
      "EPOCH 8\n",
      "(0.0019369854874148665, 0.021072859920391537)\n",
      "EPOCH 9\n",
      "(-0.0002892483876499439, 0.02463762919788663)\n",
      "EPOCH 10\n",
      "(0.0010462410206920484, 0.024086935772971343)\n",
      "EPOCH 11\n",
      "(-0.0008473994489347174, 0.0229943363820926)\n",
      "EPOCH 12\n",
      "(-0.0004429725385190379, 0.02266260332235715)\n",
      "EPOCH 13\n",
      "(0.0015109954914708638, 0.021545356745097867)\n",
      "EPOCH 14\n",
      "(0.002661287746876593, 0.021553172278406904)\n",
      "EPOCH 15\n",
      "(0.0032773462309875754, 0.021271013371505804)\n",
      "EPOCH 16\n",
      "(0.003467483070711556, 0.021970169467892188)\n",
      "EPOCH 17\n",
      "(0.0036574986134172275, 0.02275318444010353)\n",
      "EPOCH 18\n",
      "(-0.0012182531478871948, 0.020838590525739234)\n",
      "EPOCH 19\n",
      "(0.0001633300578127451, 0.02110141172090541)\n",
      "EPOCH 20\n",
      "(0.0016429163818969903, 0.019604974065329184)\n",
      "EPOCH 21\n",
      "(0.0038388705322355524, 0.020207052388251035)\n",
      "EPOCH 22\n",
      "(0.006177979151006455, 0.024428363724204746)\n",
      "EPOCH 23\n",
      "(0.004154679391158347, 0.021843354132393036)\n",
      "EPOCH 24\n",
      "(0.004090782466124587, 0.020088152109061428)\n",
      "EPOCH 25\n",
      "(0.0013698548064085161, 0.020676553842289728)\n",
      "EPOCH 26\n",
      "(0.0065562769209645535, 0.017552289593525023)\n",
      "EPOCH 27\n",
      "(-0.001884505323813916, 0.02297347292848507)\n",
      "EPOCH 28\n",
      "(-0.0019175813199625827, 0.018388633284853205)\n",
      "EPOCH 29\n",
      "(-0.000448378036685281, 0.020953836555902588)\n",
      "EPOCH 30\n",
      "(0.004663451735661951, 0.022084985971600364)\n",
      "EPOCH 31\n",
      "(0.005637796407251144, 0.020779382650953825)\n",
      "EPOCH 32\n",
      "(0.006419453911420884, 0.01831554362173989)\n",
      "EPOCH 33\n",
      "(0.003850725024856091, 0.017298136274917227)\n",
      "EPOCH 34\n",
      "(0.006738584736766359, 0.01730348387288161)\n",
      "EPOCH 35\n",
      "(0.0037738166307632543, 0.021201846758546104)\n",
      "EPOCH 36\n",
      "(0.007161129199936263, 0.019568876129284117)\n",
      "EPOCH 37\n",
      "(0.0082314405817475, 0.021664764746079146)\n",
      "EPOCH 38\n",
      "(0.0042941308618860054, 0.018393537221099945)\n",
      "EPOCH 39\n",
      "(0.00725648645164654, 0.018956279391193993)\n",
      "EPOCH 40\n",
      "(0.005092290880044582, 0.020772065697968)\n",
      "EPOCH 41\n",
      "(0.0035247769747472975, 0.0191311923378224)\n",
      "EPOCH 42\n",
      "(0.0043897773652140535, 0.014876053003693431)\n",
      "EPOCH 43\n",
      "(0.004995636043492449, 0.018035474088533555)\n",
      "EPOCH 44\n",
      "(0.00625688828620888, 0.01986671245226398)\n",
      "EPOCH 45\n",
      "(0.0028587755382209687, 0.01715949462664941)\n",
      "EPOCH 46\n",
      "(0.006539008068922814, 0.018864875961490148)\n",
      "EPOCH 47\n",
      "(0.006320152441300493, 0.01732061667053009)\n",
      "EPOCH 48\n",
      "(0.006055169504496083, 0.01966901659262404)\n",
      "EPOCH 49\n",
      "(0.006956147090043457, 0.018039592708444064)\n",
      "EPOCH 50\n",
      "(0.0024998456400161613, 0.0168547970106379)\n"
     ]
    }
   ],
   "source": [
    "ls_scores = []\n",
    "sy_scores = []\n",
    "\n",
    "print(\"EPOCH 1\")\n",
    "model = Word2Vec(sentences, vector_size=vector_size, window=window, workers=4, min_count=0, epochs=1)\n",
    "scores = score_model()\n",
    "print(scores)\n",
    "\n",
    "ls_scores.append(scores[0])\n",
    "sy_scores.append(scores[1])\n",
    "\n",
    "for i in range(50):\n",
    "    print(f\"EPOCH {i+1}\")\n",
    "    model.train(sentences, total_examples=model.corpus_count, epochs=1)\n",
    "\n",
    "    scores = score_model()\n",
    "    print(scores)\n",
    "\n",
    "    ls_scores.append(scores[0])\n",
    "    sy_scores.append(scores[1])"
   ]
  },
  {
   "cell_type": "code",
   "execution_count": 21,
   "metadata": {},
   "outputs": [],
   "source": [
    "repeats = []\n",
    "\n",
    "with open(\"data/quantized/LibriSpeech/train-full-960/quantized_outputs.txt\") as input_file:\n",
    "    for line in input_file.readlines():\n",
    "        sequence = line.strip().split(\"\\t\")[1].split(\",\")[1:]\n",
    "        \n",
    "        current_count = 0\n",
    "        current_char = sequence[0]\n",
    "        for i in range(len(sequence)):\n",
    "            if sequence[i] == current_char:\n",
    "                current_count += 1\n",
    "            else:\n",
    "                repeats.append(current_count)\n",
    "                current_count = 1\n",
    "                current_char = sequence[i]"
   ]
  },
  {
   "cell_type": "code",
   "execution_count": 22,
   "metadata": {},
   "outputs": [],
   "source": [
    "import matplotlib.pyplot as plt"
   ]
  },
  {
   "cell_type": "code",
   "execution_count": 23,
   "metadata": {},
   "outputs": [],
   "source": [
    "from itertools import groupby\n",
    "freq = {key:len(list(group)) for key, group in groupby(np.sort(repeats))}"
   ]
  },
  {
   "cell_type": "code",
   "execution_count": 143,
   "metadata": {},
   "outputs": [
    {
     "ename": "",
     "evalue": "",
     "output_type": "error",
     "traceback": [
      "\u001b[1;31mCanceled future for execute_request message before replies were done"
     ]
    }
   ],
   "source": [
    "plt.hist(repeats, bins=np.arange(min(repeats), max(repeats)+1))"
   ]
  },
  {
   "cell_type": "code",
   "execution_count": 28,
   "metadata": {},
   "outputs": [
    {
     "data": {
      "text/plain": [
       "[<matplotlib.lines.Line2D at 0x229116cc050>]"
      ]
     },
     "execution_count": 28,
     "metadata": {},
     "output_type": "execute_result"
    },
    {
     "data": {
      "image/png": "[encoded data removed]",
      "text/plain": [
       "<Figure size 640x480 with 1 Axes>"
      ]
     },
     "metadata": {},
     "output_type": "display_data"
    }
   ],
   "source": [
    "plt.plot(list(freq.values())[30:])"
   ]
  },
  {
   "cell_type": "code",
   "execution_count": null,
   "metadata": {},
   "outputs": [],
   "source": []
  }
 ],
 "metadata": {
  "kernelspec": {
   "display_name": "venv",
   "language": "python",
   "name": "python3"
  },
  "language_info": {
   "codemirror_mode": {
    "name": "ipython",
    "version": 3
   },
   "file_extension": ".py",
   "mimetype": "text/x-python",
   "name": "python",
   "nbconvert_exporter": "python",
   "pygments_lexer": "ipython3",
   "version": "3.11.1"
  },
  "orig_nbformat": 4
 },
 "nbformat": 4,
 "nbformat_minor": 2
}
