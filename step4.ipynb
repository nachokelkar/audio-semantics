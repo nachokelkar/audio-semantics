{
 "cells": [
  {
   "attachments": {},
   "cell_type": "markdown",
   "metadata": {},
   "source": [
    "# Step 4 - Work on Speech"
   ]
  },
  {
   "cell_type": "code",
   "execution_count": 1,
   "metadata": {},
   "outputs": [],
   "source": [
    "import matplotlib.pyplot as plt\n",
    "import numpy as np\n",
    "from tqdm.notebook import tqdm\n",
    "import string\n",
    "import sentencepiece as spm\n",
    "from gensim.models.word2vec import Word2Vec\n",
    "from scipy.stats import pearsonr\n",
    "from sklearn.metrics.pairwise import cosine_similarity"
   ]
  },
  {
   "attachments": {},
   "cell_type": "markdown",
   "metadata": {},
   "source": [
    "## Preprocessing the dataset"
   ]
  },
  {
   "cell_type": "code",
   "execution_count": 2,
   "metadata": {},
   "outputs": [],
   "source": [
    "dataset = []"
   ]
  },
  {
   "cell_type": "code",
   "execution_count": 3,
   "metadata": {},
   "outputs": [],
   "source": [
    "with open(\"data/quantized/LibriSpeech/train-full-960/quantized_outputs.txt\") as input_file:\n",
    "    for line in input_file.readlines():\n",
    "        dataset.append(\n",
    "            line.split(\"\\t\")[1].split(\",\")[1:]  # Exclude ID and get only data\n",
    "        )"
   ]
  },
  {
   "cell_type": "code",
   "execution_count": null,
   "metadata": {},
   "outputs": [],
   "source": [
    "# Assign a character to each number\n",
    "letters = {\n",
    "    i: key for i, key in enumerate(string.ascii_letters)\n",
    "}"
   ]
  },
  {
   "cell_type": "code",
   "execution_count": null,
   "metadata": {},
   "outputs": [],
   "source": [
    "# To make new char dataset from dataset\n",
    "char_dataset = [\n",
    "    [letters[int(v)] for v in line]\n",
    "    for line in dataset\n",
    "]"
   ]
  },
  {
   "cell_type": "code",
   "execution_count": 5,
   "metadata": {},
   "outputs": [],
   "source": [
    "# Write new data to a file\n",
    "char_dataset_filepath = \"data/level_wise/level0/corpus_original.txt\""
   ]
  },
  {
   "cell_type": "code",
   "execution_count": 6,
   "metadata": {},
   "outputs": [],
   "source": [
    "with open(char_dataset_filepath, \"w+\", encoding=\"utf-8\") as char_ds_fp:\n",
    "    for line in char_dataset:\n",
    "        char_ds_fp.write(\"\".join(line) + \"\\n\")"
   ]
  },
  {
   "cell_type": "code",
   "execution_count": 6,
   "metadata": {},
   "outputs": [],
   "source": [
    "# To load char dataset\n",
    "char_dataset = []\n",
    "with open(char_dataset_filepath, \"r\", encoding=\"utf-8\") as char_ds_fp:\n",
    "    for line in char_ds_fp.readlines():\n",
    "        line = line.strip()\n",
    "        char_dataset.append(list(line))"
   ]
  },
  {
   "attachments": {},
   "cell_type": "markdown",
   "metadata": {},
   "source": [
    "## Level 1\n",
    "\n",
    "Convert sequence of pre-computed clusters into sequences"
   ]
  },
  {
   "attachments": {},
   "cell_type": "markdown",
   "metadata": {},
   "source": [
    "### Run SentencePiece on new dataset"
   ]
  },
  {
   "cell_type": "code",
   "execution_count": 7,
   "metadata": {},
   "outputs": [],
   "source": [
    "input_file = char_dataset_filepath\n",
    "sp_model_tag = \"s4-lvl0\"\n",
    "max_sentence_length = 2000\n",
    "vocab_size = 20000\n",
    "model_type = \"unigram\"\n",
    "SP_MODEL_NAME = f\"models/{model_type}_vs{vocab_size}_{sp_model_tag}\""
   ]
  },
  {
   "cell_type": "code",
   "execution_count": 29,
   "metadata": {},
   "outputs": [],
   "source": [
    "# train sentencepiece model from `botchan.txt` and makes `m.model` and `m.vocab`\n",
    "# `m.vocab` is just a reference. not used in the segmentation.\n",
    "spm.SentencePieceTrainer.train(\n",
    "    f\"--input={input_file} \" \\\n",
    "    f\"--model_type={model_type} \" \\\n",
    "    f\"--model_prefix={SP_MODEL_NAME} \" \\\n",
    "    f\"--vocab_size={vocab_size} \" \\\n",
    "    f\"--max_sentence_length={max_sentence_length} \" \\\n",
    "    f\"--train_extremely_large_corpus\"\n",
    ")"
   ]
  },
  {
   "cell_type": "code",
   "execution_count": 8,
   "metadata": {},
   "outputs": [
    {
     "data": {
      "text/plain": [
       "True"
      ]
     },
     "execution_count": 8,
     "metadata": {},
     "output_type": "execute_result"
    }
   ],
   "source": [
    "# Convert sentences to token sequences\n",
    "sp_lvl0 = spm.SentencePieceProcessor()\n",
    "sp_lvl0.load(f\"{SP_MODEL_NAME}.model\")"
   ]
  },
  {
   "cell_type": "code",
   "execution_count": 15,
   "metadata": {},
   "outputs": [],
   "source": [
    "with open(input_file) as corpus_file:\n",
    "    corpus = corpus_file.readlines()\n",
    "\n",
    "sentences = [sp_lvl0.EncodeAsPieces(sentence)[1:] for sentence in corpus]"
   ]
  },
  {
   "attachments": {},
   "cell_type": "markdown",
   "metadata": {},
   "source": [
    "### Word2Vec"
   ]
  },
  {
   "cell_type": "code",
   "execution_count": 9,
   "metadata": {},
   "outputs": [],
   "source": [
    "vector_size = 150\n",
    "window = 1\n",
    "w2v_model_tag = \"s4-lvl0\"\n",
    "W2V_MODEL_PATH = f\"models/w2v_vs{vector_size}_w{window}_{w2v_model_tag}.model\""
   ]
  },
  {
   "cell_type": "code",
   "execution_count": 101,
   "metadata": {},
   "outputs": [],
   "source": [
    "w2v_lvl0 = Word2Vec(\n",
    "    sentences,\n",
    "    window=window,\n",
    "    vector_size=vector_size,\n",
    "    min_count=0,\n",
    "    workers=4,\n",
    "    epochs=7\n",
    ")"
   ]
  },
  {
   "cell_type": "code",
   "execution_count": 102,
   "metadata": {},
   "outputs": [],
   "source": [
    "w2v_lvl0.save(W2V_MODEL_PATH)"
   ]
  },
  {
   "cell_type": "code",
   "execution_count": 11,
   "metadata": {},
   "outputs": [],
   "source": [
    "w2v_lvl0 = Word2Vec.load(W2V_MODEL_PATH)"
   ]
  },
  {
   "attachments": {},
   "cell_type": "markdown",
   "metadata": {},
   "source": [
    "#### Test optimal threshold for creating clusters"
   ]
  },
  {
   "cell_type": "code",
   "execution_count": null,
   "metadata": {},
   "outputs": [],
   "source": [
    "n_clusters = []\n",
    "\n",
    "for threshold in tqdm(range(0, 99, 1)):\n",
    "    threshold = threshold / 100\n",
    "    word_to_cluster = dict()  # Stores map from word to cluster\n",
    "    cluster_to_words = dict()  # Stores map from cluster to words\n",
    "    cluster_idx = 0  # Counter\n",
    "\n",
    "    for word in words:\n",
    "        # Check if word has already been clustered\n",
    "        if word not in word_to_cluster.keys():\n",
    "            # Create new cluster\n",
    "            cluster_idx += 1\n",
    "            cluster_key = chr(0x0020 + cluster_idx)\n",
    "\n",
    "            # Add new word to cluster\n",
    "            cluster_to_words[cluster_key] = [word]\n",
    "            word_to_cluster[word] = cluster_key\n",
    "            \n",
    "            # Add all similar words\n",
    "            for similar_word, score in model.wv.most_similar(word, topn=10000):\n",
    "                if score > threshold:\n",
    "                    cluster_to_words[cluster_key].append(similar_word)\n",
    "                    word_to_cluster[similar_word] = cluster_key\n",
    "    \n",
    "    n_clusters.append(len(cluster_to_words))"
   ]
  },
  {
   "cell_type": "code",
   "execution_count": 74,
   "metadata": {},
   "outputs": [
    {
     "data": {
      "text/plain": [
       "[<matplotlib.lines.Line2D at 0x1920f13c950>]"
      ]
     },
     "execution_count": 74,
     "metadata": {},
     "output_type": "execute_result"
    },
    {
     "data": {
      "image/png": "[encoded data removed]",
      "text/plain": [
       "<Figure size 640x480 with 1 Axes>"
      ]
     },
     "metadata": {},
     "output_type": "display_data"
    }
   ],
   "source": [
    "plt.plot(n_clusters)"
   ]
  },
  {
   "attachments": {},
   "cell_type": "markdown",
   "metadata": {},
   "source": [
    "### Create clusters"
   ]
  },
  {
   "cell_type": "code",
   "execution_count": 12,
   "metadata": {},
   "outputs": [],
   "source": [
    "threshold = 0.55\n",
    "\n",
    "words = list(w2v_lvl0.wv.key_to_index.keys())\n",
    "word_to_cluster = dict()  # Stores map from word to cluster\n",
    "cluster_to_words = dict()  # Stores map from cluster to words\n",
    "cluster_idx = 0  # Counter\n",
    "\n",
    "try:\n",
    "    for word in words:\n",
    "        # Check if word has already been clustered\n",
    "        if word not in word_to_cluster.keys():\n",
    "            # Create new cluster\n",
    "            cluster_idx += 1\n",
    "            while not chr(0x0020 + cluster_idx).isalpha() or not len(chr(0x0020 + cluster_idx)) == 1:\n",
    "                cluster_idx += 1\n",
    "            cluster_key = chr(0x0020 + cluster_idx)\n",
    "\n",
    "            # Add new word to cluster\n",
    "            cluster_to_words[cluster_key] = [word]\n",
    "            word_to_cluster[word] = cluster_key\n",
    "            \n",
    "            # Add all similar words\n",
    "            for similar_word, score in w2v_lvl0.wv.most_similar(word, topn=10000):\n",
    "                if score > threshold:\n",
    "                    cluster_to_words[cluster_key].append(similar_word)\n",
    "                    word_to_cluster[similar_word] = cluster_key\n",
    "\n",
    "except ValueError:\n",
    "    print(len(cluster_to_words))"
   ]
  },
  {
   "cell_type": "code",
   "execution_count": 13,
   "metadata": {},
   "outputs": [
    {
     "data": {
      "text/plain": [
       "1898"
      ]
     },
     "execution_count": 13,
     "metadata": {},
     "output_type": "execute_result"
    }
   ],
   "source": [
    "len(cluster_to_words)"
   ]
  },
  {
   "cell_type": "code",
   "execution_count": 16,
   "metadata": {},
   "outputs": [],
   "source": [
    "with open(\"data/lvl1_corpus.txt\", \"w+\", encoding=\"utf-8\") as lvl1_corpus_fp:\n",
    "    for line in sentences:\n",
    "        lvl1_corpus_fp.write(\"\".join(word_to_cluster[piece] for piece in line) + \"\\n\")"
   ]
  },
  {
   "cell_type": "code",
   "execution_count": 17,
   "metadata": {},
   "outputs": [],
   "source": [
    "lvl1_utterances = {\n",
    "    \"librispeech\": dict(),\n",
    "    \"synthetic\": dict()\n",
    "}\n",
    "\n",
    "for dataset in [\"librispeech\", \"synthetic\"]:\n",
    "    lvl1_utterances[dataset] = {}\n",
    "    with open(f\"data/quantized/semantic/dev/{dataset}/quantized_outputs.txt\", \"r\") as utterance_file:\n",
    "        for line in utterance_file.readlines():\n",
    "            key, seq = line.strip().split(\"\\t\")\n",
    "            utterance = seq.split(\",\")[1:]\n",
    "            lvl0_utterance = \"\".join(\n",
    "                [letters[int(v)] for i, v in enumerate(utterance) if i == 0 or v != utterance[i - 1]]\n",
    "            )\n",
    "\n",
    "            lvl1_utterances[dataset][key] = \"\".join(word_to_cluster[piece] for piece in sp_lvl0.EncodeAsPieces(lvl0_utterance)[1:])"
   ]
  },
  {
   "cell_type": "code",
   "execution_count": 18,
   "metadata": {},
   "outputs": [],
   "source": [
    "input_file = \"data/lvl1_corpus.txt\"\n",
    "sp_model_tag = \"s4-lvl1\"\n",
    "max_sentence_length = 2000\n",
    "vocab_size = 20000\n",
    "model_type = \"unigram\"\n",
    "SP_MODEL_NAME = f\"models/{model_type}_vs{vocab_size}_{sp_model_tag}\""
   ]
  },
  {
   "cell_type": "code",
   "execution_count": 19,
   "metadata": {},
   "outputs": [],
   "source": [
    "# train sentencepiece model from `botchan.txt` and makes `m.model` and `m.vocab`\n",
    "# `m.vocab` is just a reference. not used in the segmentation.\n",
    "spm.SentencePieceTrainer.train(\n",
    "    f\"--input={input_file} \" \\\n",
    "    f\"--model_type={model_type} \" \\\n",
    "    f\"--model_prefix={SP_MODEL_NAME} \" \\\n",
    "    f\"--vocab_size={vocab_size} \" \\\n",
    "    f\"--max_sentence_length={max_sentence_length} \" \\\n",
    "    f\"--train_extremely_large_corpus\"\n",
    ")"
   ]
  },
  {
   "cell_type": "code",
   "execution_count": 20,
   "metadata": {},
   "outputs": [
    {
     "data": {
      "text/plain": [
       "True"
      ]
     },
     "execution_count": 20,
     "metadata": {},
     "output_type": "execute_result"
    }
   ],
   "source": [
    "# Convert sentences to token sequences\n",
    "sp_lvl1 = spm.SentencePieceProcessor()\n",
    "sp_lvl1.load(f\"{SP_MODEL_NAME}.model\")"
   ]
  },
  {
   "cell_type": "code",
   "execution_count": 89,
   "metadata": {},
   "outputs": [],
   "source": [
    "with open(input_file, encoding=\"utf-8\") as corpus_file:\n",
    "    corpus = corpus_file.readlines()\n",
    "\n",
    "sentences = []\n",
    "for sentence in corpus:\n",
    "    pieces = sp_lvl1.EncodeAsPieces(sentence)\n",
    "    if pieces[0] == \"_\":\n",
    "        sentences.append(pieces[1:])\n",
    "    else:\n",
    "        new_pieces = [pieces[0][1:]]\n",
    "        new_pieces.extend(pieces[1:])\n",
    "        sentences.append(new_pieces)"
   ]
  },
  {
   "cell_type": "code",
   "execution_count": 90,
   "metadata": {},
   "outputs": [],
   "source": [
    "vector_size = 150\n",
    "window = 5\n",
    "w2v_model_tag = \"s4-lvl1\"\n",
    "W2V_MODEL_PATH = f\"models/w2v_vs{vector_size}_w{window}_{w2v_model_tag}.model\""
   ]
  },
  {
   "cell_type": "code",
   "execution_count": 91,
   "metadata": {},
   "outputs": [],
   "source": [
    "w2v_lvl1 = Word2Vec(\n",
    "    sentences,\n",
    "    window=window,\n",
    "    vector_size=vector_size,\n",
    "    min_count=0,\n",
    "    workers=4,\n",
    "    epochs=7\n",
    ")"
   ]
  },
  {
   "cell_type": "code",
   "execution_count": 92,
   "metadata": {},
   "outputs": [],
   "source": [
    "w2v_lvl1.save(W2V_MODEL_PATH)"
   ]
  },
  {
   "cell_type": "code",
   "execution_count": 93,
   "metadata": {},
   "outputs": [],
   "source": [
    "w2v_lvl1 = Word2Vec.load(W2V_MODEL_PATH)"
   ]
  },
  {
   "attachments": {},
   "cell_type": "markdown",
   "metadata": {},
   "source": [
    "## Testing"
   ]
  },
  {
   "cell_type": "code",
   "execution_count": 94,
   "metadata": {},
   "outputs": [],
   "source": [
    "word_to_key = {}\n",
    "key_to_word = {}\n",
    "\n",
    "with open(\"data/quantized/dev-gold.csv\", \"r\") as key_file:\n",
    "    for line in key_file.readlines()[1:]:\n",
    "        dataset, key, _, word = line.strip().split(\",\")\n",
    "        if word not in word_to_key:\n",
    "            word_to_key[word] = {\n",
    "                'librispeech': [],\n",
    "                'synthetic': []\n",
    "            }\n",
    "        word_to_key[word][dataset].append(key)\n",
    "        key_to_word[key] = word"
   ]
  },
  {
   "cell_type": "code",
   "execution_count": 95,
   "metadata": {},
   "outputs": [],
   "source": [
    "sim_pairs = []\n",
    "rel_pairs = []\n",
    "\n",
    "with open(\"data/quantized/dev-pairs.csv\", \"r\") as pairs_file:\n",
    "    for line in pairs_file.readlines()[1:]:\n",
    "        dataset, _, w1, w2, sim, rel = line.strip().split(\",\")\n",
    "        if sim:\n",
    "            sim_pairs.append((dataset, w1, w2, float(sim)))\n",
    "        if rel:\n",
    "            rel_pairs.append((dataset, w1, w2, float(rel)))"
   ]
  },
  {
   "cell_type": "code",
   "execution_count": 96,
   "metadata": {},
   "outputs": [],
   "source": [
    "# all_utterances = {\n",
    "#     \"librispeech\": dict(),\n",
    "#     \"synthetic\": dict()\n",
    "# }\n",
    "\n",
    "# for dataset in [\"librispeech\", \"synthetic\"]:\n",
    "#     all_utterances[dataset] = {}\n",
    "#     with open(f\"data/quantized/semantic/dev/{dataset}/quantized_outputs.txt\", \"r\") as utterance_file:\n",
    "#         for line in utterance_file.readlines():\n",
    "#             key, seq = line.strip().split(\"\\t\")\n",
    "#             utterance = seq.split(\",\")[1:]\n",
    "\n",
    "#             all_utterances[dataset][key] = \"\".join(\n",
    "#                 [letters[int(v)] for i, v in enumerate(utterance) if i == 0 or v != utterance[i - 1]]\n",
    "#             )"
   ]
  },
  {
   "cell_type": "code",
   "execution_count": 137,
   "metadata": {},
   "outputs": [],
   "source": [
    "def get_vector_from_utterance(utterance, model):\n",
    "    if utterance in model.wv.key_to_index.keys():\n",
    "        return model.wv[utterance].reshape(1, -1)\n",
    "    else:\n",
    "        pieces = sp_lvl1.EncodeAsPieces(utterance)\n",
    "        if pieces[0] == \"_\":\n",
    "            units = pieces[1:]\n",
    "        else:\n",
    "            units = [pieces[0][1:]]\n",
    "            units.extend(pieces[1:])\n",
    "        if len(units) <= 1:\n",
    "            print(units)\n",
    "        vectors = np.array([model.wv[unit] for unit in units])\n",
    "        return vectors.mean(axis=0).reshape(1, -1)"
   ]
  },
  {
   "cell_type": "code",
   "execution_count": 138,
   "metadata": {},
   "outputs": [
    {
     "name": "stdout",
     "output_type": "stream",
     "text": [
      "['dž']\n",
      "['ਫ਼']\n",
      "['ਫ਼']\n",
      "['ɹ']\n"
     ]
    }
   ],
   "source": [
    "similarity_scores = {\n",
    "    \"librispeech\": {\n",
    "        \"min\": [],\n",
    "        \"max\": [],\n",
    "        \"avg\": []\n",
    "    },\n",
    "    \"synthetic\": {\n",
    "        \"min\": [],\n",
    "        \"max\": [],\n",
    "        \"avg\": []\n",
    "    }\n",
    "}\n",
    "\n",
    "rels = {\n",
    "    \"librispeech\": [],\n",
    "    \"synthetic\": []\n",
    "}\n",
    "total = 0\n",
    "errors = 0\n",
    "\n",
    "for pair in rel_pairs:\n",
    "    dataset, w1, w2, rel = pair\n",
    "\n",
    "    try:\n",
    "        w1_utterances = [\n",
    "            lvl1_utterances[dataset][key] for key in word_to_key[w1][dataset]\n",
    "        ]\n",
    "        w2_utterances = [\n",
    "            lvl1_utterances[dataset][key] for key in word_to_key[w2][dataset]\n",
    "        ]\n",
    "\n",
    "        # try:\n",
    "        w1_vectors = np.array(\n",
    "            [get_vector_from_utterance(utt, w2v_lvl1) for utt in w1_utterances]\n",
    "        )\n",
    "        w2_vectors = np.array(\n",
    "            [get_vector_from_utterance(utt, w2v_lvl1) for utt in w2_utterances]\n",
    "        )\n",
    "        # except:\n",
    "        #     print([sp_lvl1.EncodeAsPieces(utt)[1:] for utt in w1_utterances])\n",
    "        #     print([sp_lvl1.EncodeAsPieces(utt) for utt in w2_utterances])\n",
    "            # units = sp_lvl1.EncodeAsPieces(w2_utterances[])[1:]\n",
    "            # vectors = np.array([w2v_lvl1.wv[unit] for unit in units])\n",
    "            # print(vectors.shape)\n",
    "            # break\n",
    "\n",
    "        similarities = [cosine_similarity(i, j) for i in w1_vectors for j in w2_vectors]\n",
    "\n",
    "        similarity_scores[dataset][\"min\"].append(np.min(similarities))\n",
    "        similarity_scores[dataset][\"avg\"].append(np.mean(similarities))\n",
    "        similarity_scores[dataset][\"max\"].append(np.max(similarities))\n",
    "\n",
    "        rels[dataset].append(rel)\n",
    "\n",
    "    except KeyError:\n",
    "        errors += 1\n",
    "        continue\n",
    "\n",
    "    total += 1"
   ]
  },
  {
   "cell_type": "code",
   "execution_count": 139,
   "metadata": {},
   "outputs": [],
   "source": [
    "relation_scores = {\n",
    "    dataset : {\n",
    "        variant : pearsonr(similarity_scores[dataset][variant], rels[dataset])[0] * 100\n",
    "        for variant in similarity_scores[dataset].keys()\n",
    "    }\n",
    "    for dataset in similarity_scores.keys()\n",
    "}"
   ]
  },
  {
   "cell_type": "code",
   "execution_count": 140,
   "metadata": {},
   "outputs": [
    {
     "data": {
      "text/plain": [
       "({'librispeech': {'min': 4.065779997417401,\n",
       "   'max': 1.1216880597955048,\n",
       "   'avg': 3.5743457130670246},\n",
       "  'synthetic': {'min': 0.558107353760786,\n",
       "   'max': 5.511183829212604,\n",
       "   'avg': 1.8792798557574524}},\n",
       " 4,\n",
       " 1010)"
      ]
     },
     "execution_count": 140,
     "metadata": {},
     "output_type": "execute_result"
    }
   ],
   "source": [
    "relation_scores, errors, total"
   ]
  },
  {
   "cell_type": "code",
   "execution_count": 141,
   "metadata": {},
   "outputs": [],
   "source": [
    "def score_model(model):\n",
    "    similarity_scores = {\n",
    "        \"librispeech\": [],\n",
    "        \"synthetic\": []\n",
    "    }\n",
    "\n",
    "    rels = {\n",
    "        \"librispeech\": [],\n",
    "        \"synthetic\": []\n",
    "    }\n",
    "\n",
    "    with open(\"results/complete_sim.csv\", \"w+\") as sim_file:\n",
    "        sim_file.write(\"dataset,w1,w2,gold_standard,model\\n\")\n",
    "        for pair in rel_pairs:\n",
    "            try:\n",
    "                dataset, w1, w2, rel = pair\n",
    "                w1_utterances = [\n",
    "                    lvl1_utterances[dataset][key] for key in word_to_key[w1][dataset]\n",
    "                ]\n",
    "                w2_utterances = [\n",
    "                    lvl1_utterances[dataset][key] for key in word_to_key[w2][dataset]\n",
    "                ]\n",
    "\n",
    "                w1_vectors = np.array(\n",
    "                    [get_vector_from_utterance(utt, model) for utt in w1_utterances]\n",
    "                )\n",
    "                w2_vectors = np.array(\n",
    "                    [get_vector_from_utterance(utt, model) for utt in w2_utterances]\n",
    "                )\n",
    "\n",
    "                for i in w1_vectors:\n",
    "                    for j in w2_vectors:\n",
    "                        similarity_scores[dataset].append(cosine_similarity(i, j).item())\n",
    "                        rels[dataset].append(rel)\n",
    "                \n",
    "                        sim_file.write(\",\".join([dataset, w1, w2, str(rel), str(cosine_similarity(i, j).item())]) +\"\\n\")\n",
    "            except KeyError:\n",
    "                continue\n",
    "    \n",
    "    relation_scores = {\n",
    "        dataset : pearsonr(similarity_scores[dataset], rels[dataset])[0]\n",
    "        for dataset in similarity_scores.keys()\n",
    "    }\n",
    "\n",
    "    return relation_scores[\"librispeech\"] * 100, relation_scores[\"synthetic\"] * 100"
   ]
  },
  {
   "cell_type": "code",
   "execution_count": 142,
   "metadata": {},
   "outputs": [
    {
     "name": "stdout",
     "output_type": "stream",
     "text": [
      "['dž']\n",
      "['ਫ਼']\n",
      "['ਫ਼']\n",
      "['ɹ']\n"
     ]
    },
    {
     "data": {
      "text/plain": [
       "(-0.0753697231971494, 1.0729163991983643)"
      ]
     },
     "execution_count": 142,
     "metadata": {},
     "output_type": "execute_result"
    }
   ],
   "source": [
    "score_model(w2v_lvl1)"
   ]
  },
  {
   "cell_type": "code",
   "execution_count": 144,
   "metadata": {},
   "outputs": [
    {
     "name": "stdout",
     "output_type": "stream",
     "text": [
      "EPOCH 1\n",
      "['dž']\n",
      "['ਫ਼']\n",
      "['ਫ਼']\n",
      "['ɹ']\n",
      "(-1.0846426209664988, 0.6129611178255678)\n",
      "EPOCH 1\n",
      "['dž']\n",
      "['ਫ਼']\n",
      "['ਫ਼']\n",
      "['ɹ']\n",
      "(-0.27159811875313633, 0.7863310395170279)\n",
      "EPOCH 2\n",
      "['dž']\n",
      "['ਫ਼']\n",
      "['ਫ਼']\n",
      "['ɹ']\n",
      "(-0.307521303780927, 0.8983201235252628)\n",
      "EPOCH 3\n",
      "['dž']\n",
      "['ਫ਼']\n",
      "['ਫ਼']\n",
      "['ɹ']\n",
      "(-0.32419691757046265, 1.3242038035390884)\n",
      "EPOCH 4\n",
      "['dž']\n",
      "['ਫ਼']\n",
      "['ਫ਼']\n",
      "['ɹ']\n",
      "(-0.11691599769023382, 1.346267689783848)\n",
      "EPOCH 5\n",
      "['dž']\n",
      "['ਫ਼']\n",
      "['ਫ਼']\n",
      "['ɹ']\n",
      "(-0.20667175262482898, 1.272622464201465)\n",
      "EPOCH 6\n",
      "['dž']\n",
      "['ਫ਼']\n",
      "['ਫ਼']\n",
      "['ɹ']\n",
      "(0.3338101084831265, 1.205754417677398)\n",
      "EPOCH 7\n",
      "['dž']\n",
      "['ਫ਼']\n",
      "['ਫ਼']\n",
      "['ɹ']\n",
      "(0.28800663492011375, 1.1911600688022683)\n",
      "EPOCH 8\n",
      "['dž']\n",
      "['ਫ਼']\n",
      "['ਫ਼']\n",
      "['ɹ']\n",
      "(0.03090003970756048, 1.3237003710755983)\n",
      "EPOCH 9\n",
      "['dž']\n",
      "['ਫ਼']\n",
      "['ਫ਼']\n",
      "['ɹ']\n",
      "(0.24610401585205216, 1.0858420566666274)\n",
      "EPOCH 10\n",
      "['dž']\n",
      "['ਫ਼']\n",
      "['ਫ਼']\n",
      "['ɹ']\n",
      "(0.09404153996606066, 1.1524495309479765)\n",
      "EPOCH 11\n",
      "['dž']\n",
      "['ਫ਼']\n",
      "['ਫ਼']\n",
      "['ɹ']\n",
      "(0.24453225810427498, 1.1165450057832034)\n",
      "EPOCH 12\n",
      "['dž']\n",
      "['ਫ਼']\n",
      "['ਫ਼']\n",
      "['ɹ']\n",
      "(0.21278242473338027, 1.0319858138128342)\n",
      "EPOCH 13\n",
      "['dž']\n",
      "['ਫ਼']\n",
      "['ਫ਼']\n",
      "['ɹ']\n",
      "(0.31699424139248855, 1.1575781237661649)\n",
      "EPOCH 14\n",
      "['dž']\n",
      "['ਫ਼']\n",
      "['ਫ਼']\n",
      "['ɹ']\n",
      "(0.022421629423375507, 1.0819841874072982)\n",
      "EPOCH 15\n",
      "['dž']\n",
      "['ਫ਼']\n",
      "['ਫ਼']\n",
      "['ɹ']\n",
      "(0.33543570058530925, 1.2452868661376424)\n",
      "EPOCH 16\n",
      "['dž']\n",
      "['ਫ਼']\n",
      "['ਫ਼']\n",
      "['ɹ']\n",
      "(-0.11474845561767577, 0.7255232385485934)\n",
      "EPOCH 17\n",
      "['dž']\n",
      "['ਫ਼']\n",
      "['ਫ਼']\n",
      "['ɹ']\n",
      "(-0.12195147223674419, 0.8997331997419096)\n",
      "EPOCH 18\n",
      "['dž']\n",
      "['ਫ਼']\n",
      "['ਫ਼']\n",
      "['ɹ']\n",
      "(0.20724251947770306, 0.9155912504883592)\n",
      "EPOCH 19\n",
      "['dž']\n",
      "['ਫ਼']\n",
      "['ਫ਼']\n",
      "['ɹ']\n",
      "(0.42042786361729784, 0.9481052557705807)\n",
      "EPOCH 20\n",
      "['dž']\n",
      "['ਫ਼']\n",
      "['ਫ਼']\n",
      "['ɹ']\n",
      "(-0.13187279477661312, 0.9688441467368765)\n",
      "EPOCH 21\n",
      "['dž']\n",
      "['ਫ਼']\n",
      "['ਫ਼']\n",
      "['ɹ']\n",
      "(-0.10846374357785929, 0.9445557428326968)\n",
      "EPOCH 22\n",
      "['dž']\n",
      "['ਫ਼']\n",
      "['ਫ਼']\n",
      "['ɹ']\n",
      "(0.3884213029601487, 1.0706655776698417)\n",
      "EPOCH 23\n",
      "['dž']\n",
      "['ਫ਼']\n",
      "['ਫ਼']\n",
      "['ɹ']\n",
      "(0.3251759533697035, 1.2052172861013826)\n",
      "EPOCH 24\n",
      "['dž']\n",
      "['ਫ਼']\n",
      "['ਫ਼']\n",
      "['ɹ']\n",
      "(0.4398036598208748, 0.7420910603653118)\n",
      "EPOCH 25\n"
     ]
    },
    {
     "ename": "KeyboardInterrupt",
     "evalue": "",
     "output_type": "error",
     "traceback": [
      "\u001b[1;31m---------------------------------------------------------------------------\u001b[0m",
      "\u001b[1;31mKeyboardInterrupt\u001b[0m                         Traceback (most recent call last)",
      "Cell \u001b[1;32mIn[144], line 14\u001b[0m\n\u001b[0;32m     12\u001b[0m \u001b[39mfor\u001b[39;00m i \u001b[39min\u001b[39;00m \u001b[39mrange\u001b[39m(\u001b[39m50\u001b[39m):\n\u001b[0;32m     13\u001b[0m     \u001b[39mprint\u001b[39m(\u001b[39mf\u001b[39m\u001b[39m\"\u001b[39m\u001b[39mEPOCH \u001b[39m\u001b[39m{\u001b[39;00mi\u001b[39m+\u001b[39m\u001b[39m1\u001b[39m\u001b[39m}\u001b[39;00m\u001b[39m\"\u001b[39m)\n\u001b[1;32m---> 14\u001b[0m     test_model\u001b[39m.\u001b[39;49mtrain(sentences, total_examples\u001b[39m=\u001b[39;49mtest_model\u001b[39m.\u001b[39;49mcorpus_count, epochs\u001b[39m=\u001b[39;49m\u001b[39m1\u001b[39;49m)\n\u001b[0;32m     16\u001b[0m     scores \u001b[39m=\u001b[39m score_model(test_model)\n\u001b[0;32m     17\u001b[0m     \u001b[39mprint\u001b[39m(scores)\n",
      "File \u001b[1;32mc:\\Users\\mj115gl\\work_dir\\thesis\\audio-semantics\\venv\\Lib\\site-packages\\gensim\\models\\word2vec.py:1073\u001b[0m, in \u001b[0;36mWord2Vec.train\u001b[1;34m(self, corpus_iterable, corpus_file, total_examples, total_words, epochs, start_alpha, end_alpha, word_count, queue_factor, report_delay, compute_loss, callbacks, **kwargs)\u001b[0m\n\u001b[0;32m   1070\u001b[0m     callback\u001b[39m.\u001b[39mon_epoch_begin(\u001b[39mself\u001b[39m)\n\u001b[0;32m   1072\u001b[0m \u001b[39mif\u001b[39;00m corpus_iterable \u001b[39mis\u001b[39;00m \u001b[39mnot\u001b[39;00m \u001b[39mNone\u001b[39;00m:\n\u001b[1;32m-> 1073\u001b[0m     trained_word_count_epoch, raw_word_count_epoch, job_tally_epoch \u001b[39m=\u001b[39m \u001b[39mself\u001b[39;49m\u001b[39m.\u001b[39;49m_train_epoch(\n\u001b[0;32m   1074\u001b[0m         corpus_iterable, cur_epoch\u001b[39m=\u001b[39;49mcur_epoch, total_examples\u001b[39m=\u001b[39;49mtotal_examples,\n\u001b[0;32m   1075\u001b[0m         total_words\u001b[39m=\u001b[39;49mtotal_words, queue_factor\u001b[39m=\u001b[39;49mqueue_factor, report_delay\u001b[39m=\u001b[39;49mreport_delay,\n\u001b[0;32m   1076\u001b[0m         callbacks\u001b[39m=\u001b[39;49mcallbacks, \u001b[39m*\u001b[39;49m\u001b[39m*\u001b[39;49mkwargs)\n\u001b[0;32m   1077\u001b[0m \u001b[39melse\u001b[39;00m:\n\u001b[0;32m   1078\u001b[0m     trained_word_count_epoch, raw_word_count_epoch, job_tally_epoch \u001b[39m=\u001b[39m \u001b[39mself\u001b[39m\u001b[39m.\u001b[39m_train_epoch_corpusfile(\n\u001b[0;32m   1079\u001b[0m         corpus_file, cur_epoch\u001b[39m=\u001b[39mcur_epoch, total_examples\u001b[39m=\u001b[39mtotal_examples, total_words\u001b[39m=\u001b[39mtotal_words,\n\u001b[0;32m   1080\u001b[0m         callbacks\u001b[39m=\u001b[39mcallbacks, \u001b[39m*\u001b[39m\u001b[39m*\u001b[39mkwargs)\n",
      "File \u001b[1;32mc:\\Users\\mj115gl\\work_dir\\thesis\\audio-semantics\\venv\\Lib\\site-packages\\gensim\\models\\word2vec.py:1434\u001b[0m, in \u001b[0;36mWord2Vec._train_epoch\u001b[1;34m(self, data_iterable, cur_epoch, total_examples, total_words, queue_factor, report_delay, callbacks)\u001b[0m\n\u001b[0;32m   1431\u001b[0m     thread\u001b[39m.\u001b[39mdaemon \u001b[39m=\u001b[39m \u001b[39mTrue\u001b[39;00m  \u001b[39m# make interrupting the process with ctrl+c easier\u001b[39;00m\n\u001b[0;32m   1432\u001b[0m     thread\u001b[39m.\u001b[39mstart()\n\u001b[1;32m-> 1434\u001b[0m trained_word_count, raw_word_count, job_tally \u001b[39m=\u001b[39m \u001b[39mself\u001b[39;49m\u001b[39m.\u001b[39;49m_log_epoch_progress(\n\u001b[0;32m   1435\u001b[0m     progress_queue, job_queue, cur_epoch\u001b[39m=\u001b[39;49mcur_epoch, total_examples\u001b[39m=\u001b[39;49mtotal_examples,\n\u001b[0;32m   1436\u001b[0m     total_words\u001b[39m=\u001b[39;49mtotal_words, report_delay\u001b[39m=\u001b[39;49mreport_delay, is_corpus_file_mode\u001b[39m=\u001b[39;49m\u001b[39mFalse\u001b[39;49;00m,\n\u001b[0;32m   1437\u001b[0m )\n\u001b[0;32m   1439\u001b[0m \u001b[39mreturn\u001b[39;00m trained_word_count, raw_word_count, job_tally\n",
      "File \u001b[1;32mc:\\Users\\mj115gl\\work_dir\\thesis\\audio-semantics\\venv\\Lib\\site-packages\\gensim\\models\\word2vec.py:1289\u001b[0m, in \u001b[0;36mWord2Vec._log_epoch_progress\u001b[1;34m(self, progress_queue, job_queue, cur_epoch, total_examples, total_words, report_delay, is_corpus_file_mode)\u001b[0m\n\u001b[0;32m   1286\u001b[0m unfinished_worker_count \u001b[39m=\u001b[39m \u001b[39mself\u001b[39m\u001b[39m.\u001b[39mworkers\n\u001b[0;32m   1288\u001b[0m \u001b[39mwhile\u001b[39;00m unfinished_worker_count \u001b[39m>\u001b[39m \u001b[39m0\u001b[39m:\n\u001b[1;32m-> 1289\u001b[0m     report \u001b[39m=\u001b[39m progress_queue\u001b[39m.\u001b[39;49mget()  \u001b[39m# blocks if workers too slow\u001b[39;00m\n\u001b[0;32m   1290\u001b[0m     \u001b[39mif\u001b[39;00m report \u001b[39mis\u001b[39;00m \u001b[39mNone\u001b[39;00m:  \u001b[39m# a thread reporting that it finished\u001b[39;00m\n\u001b[0;32m   1291\u001b[0m         unfinished_worker_count \u001b[39m-\u001b[39m\u001b[39m=\u001b[39m \u001b[39m1\u001b[39m\n",
      "File \u001b[1;32m~\\AppData\\Local\\Programs\\Python\\Python311\\Lib\\queue.py:171\u001b[0m, in \u001b[0;36mQueue.get\u001b[1;34m(self, block, timeout)\u001b[0m\n\u001b[0;32m    169\u001b[0m \u001b[39melif\u001b[39;00m timeout \u001b[39mis\u001b[39;00m \u001b[39mNone\u001b[39;00m:\n\u001b[0;32m    170\u001b[0m     \u001b[39mwhile\u001b[39;00m \u001b[39mnot\u001b[39;00m \u001b[39mself\u001b[39m\u001b[39m.\u001b[39m_qsize():\n\u001b[1;32m--> 171\u001b[0m         \u001b[39mself\u001b[39;49m\u001b[39m.\u001b[39;49mnot_empty\u001b[39m.\u001b[39;49mwait()\n\u001b[0;32m    172\u001b[0m \u001b[39melif\u001b[39;00m timeout \u001b[39m<\u001b[39m \u001b[39m0\u001b[39m:\n\u001b[0;32m    173\u001b[0m     \u001b[39mraise\u001b[39;00m \u001b[39mValueError\u001b[39;00m(\u001b[39m\"\u001b[39m\u001b[39m'\u001b[39m\u001b[39mtimeout\u001b[39m\u001b[39m'\u001b[39m\u001b[39m must be a non-negative number\u001b[39m\u001b[39m\"\u001b[39m)\n",
      "File \u001b[1;32m~\\AppData\\Local\\Programs\\Python\\Python311\\Lib\\threading.py:320\u001b[0m, in \u001b[0;36mCondition.wait\u001b[1;34m(self, timeout)\u001b[0m\n\u001b[0;32m    318\u001b[0m \u001b[39mtry\u001b[39;00m:    \u001b[39m# restore state no matter what (e.g., KeyboardInterrupt)\u001b[39;00m\n\u001b[0;32m    319\u001b[0m     \u001b[39mif\u001b[39;00m timeout \u001b[39mis\u001b[39;00m \u001b[39mNone\u001b[39;00m:\n\u001b[1;32m--> 320\u001b[0m         waiter\u001b[39m.\u001b[39;49macquire()\n\u001b[0;32m    321\u001b[0m         gotit \u001b[39m=\u001b[39m \u001b[39mTrue\u001b[39;00m\n\u001b[0;32m    322\u001b[0m     \u001b[39melse\u001b[39;00m:\n",
      "\u001b[1;31mKeyboardInterrupt\u001b[0m: "
     ]
    }
   ],
   "source": [
    "ls_scores = []\n",
    "sy_scores = []\n",
    "\n",
    "print(\"EPOCH 1\")\n",
    "test_model = Word2Vec(sentences, vector_size=vector_size, window=window, workers=4, min_count=0, epochs=1)\n",
    "scores = score_model(test_model)\n",
    "print(scores)\n",
    "\n",
    "ls_scores.append(scores[0])\n",
    "sy_scores.append(scores[1])\n",
    "\n",
    "for i in range(50):\n",
    "    print(f\"EPOCH {i+1}\")\n",
    "    test_model.train(sentences, total_examples=test_model.corpus_count, epochs=1)\n",
    "\n",
    "    scores = score_model(test_model)\n",
    "    print(scores)\n",
    "\n",
    "    ls_scores.append(scores[0])\n",
    "    sy_scores.append(scores[1])"
   ]
  },
  {
   "cell_type": "code",
   "execution_count": 145,
   "metadata": {},
   "outputs": [
    {
     "data": {
      "text/plain": [
       "[<matplotlib.lines.Line2D at 0x17f46160550>]"
      ]
     },
     "execution_count": 145,
     "metadata": {},
     "output_type": "execute_result"
    },
    {
     "data": {
      "image/png": "[encoded data removed]",
      "text/plain": [
       "<Figure size 640x480 with 1 Axes>"
      ]
     },
     "metadata": {},
     "output_type": "display_data"
    }
   ],
   "source": [
    "plt.plot(ls_scores)\n",
    "plt.plot(sy_scores)"
   ]
  },
  {
   "cell_type": "code",
   "execution_count": null,
   "metadata": {},
   "outputs": [],
   "source": []
  }
 ],
 "metadata": {
  "kernelspec": {
   "display_name": "venv",
   "language": "python",
   "name": "python3"
  },
  "language_info": {
   "codemirror_mode": {
    "name": "ipython",
    "version": 3
   },
   "file_extension": ".py",
   "mimetype": "text/x-python",
   "name": "python",
   "nbconvert_exporter": "python",
   "pygments_lexer": "ipython3",
   "version": "3.11.1"
  },
  "orig_nbformat": 4
 },
 "nbformat": 4,
 "nbformat_minor": 2
}
