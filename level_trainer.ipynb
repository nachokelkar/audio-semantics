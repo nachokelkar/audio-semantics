{
 "cells": [
  {
   "cell_type": "code",
   "execution_count": 1,
   "metadata": {},
   "outputs": [],
   "source": [
    "from levelwise_model.levelwise_model import LevelwiseModel\n",
    "from levelwise_model.config import Config, Word2VecConfig, SentencePieceConfig\n",
    "from levelwise_model.test_bench import LSTestBench"
   ]
  },
  {
   "cell_type": "code",
   "execution_count": 2,
   "metadata": {},
   "outputs": [],
   "source": [
    "tag = \"orig_20k_150x1\""
   ]
  },
  {
   "cell_type": "code",
   "execution_count": 3,
   "metadata": {},
   "outputs": [],
   "source": [
    "lw_model = LevelwiseModel(\n",
    "    tag=tag,\n",
    ")"
   ]
  },
  {
   "cell_type": "code",
   "execution_count": 4,
   "metadata": {},
   "outputs": [],
   "source": [
    "configs = [\n",
    "    Config(\n",
    "        SentencePieceConfig(max_sentence_length=60000, vocab_size=20000, model_type=\"unigram\"),\n",
    "        Word2VecConfig(vector_size=150, window=1),\n",
    "        cluster_threshold=0.85\n",
    "    )\n",
    "]"
   ]
  },
  {
   "cell_type": "code",
   "execution_count": 5,
   "metadata": {},
   "outputs": [],
   "source": [
    "test_bench = LSTestBench(scores_file=\"data/level_wise/level0/pairs.txt\")"
   ]
  },
  {
   "cell_type": "code",
   "execution_count": 6,
   "metadata": {},
   "outputs": [
    {
     "ename": "ValueError",
     "evalue": "'a' cannot be empty unless no samples are taken",
     "output_type": "error",
     "traceback": [
      "\u001b[1;31m---------------------------------------------------------------------------\u001b[0m",
      "\u001b[1;31mValueError\u001b[0m                                Traceback (most recent call last)",
      "Cell \u001b[1;32mIn[6], line 1\u001b[0m\n\u001b[1;32m----> 1\u001b[0m lw_model\u001b[39m.\u001b[39;49mtrain(\n\u001b[0;32m      2\u001b[0m     input_file\u001b[39m=\u001b[39;49m\u001b[39m\"\u001b[39;49m\u001b[39mdata/level_wise/level0/corpus_original.txt\u001b[39;49m\u001b[39m\"\u001b[39;49m,\n\u001b[0;32m      3\u001b[0m     utterance_file\u001b[39m=\u001b[39;49m\u001b[39m\"\u001b[39;49m\u001b[39mdata/level_wise/level0/utterances_original.txt\u001b[39;49m\u001b[39m\"\u001b[39;49m,\n\u001b[0;32m      4\u001b[0m     configs\u001b[39m=\u001b[39;49mconfigs,\n\u001b[0;32m      5\u001b[0m     test_bench\u001b[39m=\u001b[39;49mtest_bench\n\u001b[0;32m      6\u001b[0m )\n",
      "File \u001b[1;32mc:\\Users\\mj115gl\\work_dir\\thesis\\audio-semantics\\levelwise_model\\levelwise_model.py:266\u001b[0m, in \u001b[0;36mLevelwiseModel.train\u001b[1;34m(self, input_file, utterance_file, n_levels, configs, test_bench)\u001b[0m\n\u001b[0;32m    264\u001b[0m \u001b[39mif\u001b[39;00m test_bench:\n\u001b[0;32m    265\u001b[0m     \u001b[39mself\u001b[39m\u001b[39m.\u001b[39mlogger\u001b[39m.\u001b[39mdebug(\u001b[39m\"\u001b[39m\u001b[39mTesting layer ...\u001b[39m\u001b[39m\"\u001b[39m)\n\u001b[1;32m--> 266\u001b[0m     test_bench\u001b[39m.\u001b[39;49mrun_suite(\n\u001b[0;32m    267\u001b[0m         utterances\u001b[39m=\u001b[39;49mutterances,\n\u001b[0;32m    268\u001b[0m         word_vec_fn\u001b[39m=\u001b[39;49mword_vec_fn,\n\u001b[0;32m    269\u001b[0m         results_file\u001b[39m=\u001b[39;49m\u001b[39mself\u001b[39;49m\u001b[39m.\u001b[39;49m__curr_results_dir \u001b[39m+\u001b[39;49m \u001b[39m\"\u001b[39;49m\u001b[39m/results.txt\u001b[39;49m\u001b[39m\"\u001b[39;49m\n\u001b[0;32m    270\u001b[0m     )\n\u001b[0;32m    271\u001b[0m     \u001b[39mself\u001b[39m\u001b[39m.\u001b[39mlogger\u001b[39m.\u001b[39minfo(\u001b[39m\"\u001b[39m\u001b[39mTested layer.\u001b[39m\u001b[39m\"\u001b[39m)\n\u001b[0;32m    273\u001b[0m \u001b[39m# Update utterances\u001b[39;00m\n",
      "File \u001b[1;32mc:\\Users\\mj115gl\\work_dir\\thesis\\audio-semantics\\levelwise_model\\test_bench.py:404\u001b[0m, in \u001b[0;36mLSTestBench.run_suite\u001b[1;34m(self, utterances, word_vec_fn, results_file)\u001b[0m\n\u001b[0;32m    373\u001b[0m \u001b[39mdef\u001b[39;00m \u001b[39mrun_suite\u001b[39m(\n\u001b[0;32m    374\u001b[0m         \u001b[39mself\u001b[39m,\n\u001b[0;32m    375\u001b[0m         utterances: WordToUtteranceMapping,\n\u001b[0;32m    376\u001b[0m         word_vec_fn: \u001b[39mcallable\u001b[39m,\n\u001b[0;32m    377\u001b[0m         results_file: \u001b[39mstr\u001b[39m \u001b[39m=\u001b[39m \u001b[39mNone\u001b[39;00m\n\u001b[0;32m    378\u001b[0m ) \u001b[39m-\u001b[39m\u001b[39m>\u001b[39m \u001b[39mdict\u001b[39m:\n\u001b[0;32m    379\u001b[0m \u001b[39m    \u001b[39m\u001b[39m\"\"\"\u001b[39;00m\n\u001b[0;32m    380\u001b[0m \u001b[39m    Runs all tests and saves to a results file.\u001b[39;00m\n\u001b[0;32m    381\u001b[0m \n\u001b[1;32m   (...)\u001b[0m\n\u001b[0;32m    392\u001b[0m \u001b[39m            to a file.\u001b[39;00m\n\u001b[0;32m    393\u001b[0m \u001b[39m    \"\"\"\u001b[39;00m\n\u001b[0;32m    394\u001b[0m     results \u001b[39m=\u001b[39m {\n\u001b[0;32m    395\u001b[0m         \u001b[39m\"\u001b[39m\u001b[39msimilarities\u001b[39m\u001b[39m\"\u001b[39m: \u001b[39mself\u001b[39m\u001b[39m.\u001b[39msimilarity_score_test(\n\u001b[0;32m    396\u001b[0m             utterances\u001b[39m=\u001b[39mutterances,\n\u001b[0;32m    397\u001b[0m             word_vec_fn\u001b[39m=\u001b[39mword_vec_fn\n\u001b[0;32m    398\u001b[0m         ),\n\u001b[0;32m    399\u001b[0m         \u001b[39m\"\u001b[39m\u001b[39mxw-abx-test\u001b[39m\u001b[39m\"\u001b[39m: \u001b[39mself\u001b[39m\u001b[39m.\u001b[39mcross_word_abx_test(\n\u001b[0;32m    400\u001b[0m             utterances\u001b[39m=\u001b[39mutterances,\n\u001b[0;32m    401\u001b[0m             word_vec_fn\u001b[39m=\u001b[39mword_vec_fn,\n\u001b[0;32m    402\u001b[0m             use_noise_for_x\u001b[39m=\u001b[39m\u001b[39mFalse\u001b[39;00m\n\u001b[0;32m    403\u001b[0m         ),\n\u001b[1;32m--> 404\u001b[0m         \u001b[39m\"\u001b[39m\u001b[39msw-abx-test\u001b[39m\u001b[39m\"\u001b[39m: \u001b[39mself\u001b[39;49m\u001b[39m.\u001b[39;49msame_word_abx_test(\n\u001b[0;32m    405\u001b[0m             utterances\u001b[39m=\u001b[39;49mutterances,\n\u001b[0;32m    406\u001b[0m             word_vec_fn\u001b[39m=\u001b[39;49mword_vec_fn,\n\u001b[0;32m    407\u001b[0m             use_noise_for_x\u001b[39m=\u001b[39;49m\u001b[39mFalse\u001b[39;49;00m\n\u001b[0;32m    408\u001b[0m         )\n\u001b[0;32m    409\u001b[0m     }\n\u001b[0;32m    411\u001b[0m     \u001b[39mif\u001b[39;00m results_file \u001b[39mis\u001b[39;00m \u001b[39mnot\u001b[39;00m \u001b[39mNone\u001b[39;00m:\n\u001b[0;32m    412\u001b[0m         dump(results, \u001b[39mopen\u001b[39m(results_file, \u001b[39m\"\u001b[39m\u001b[39mw+\u001b[39m\u001b[39m\"\u001b[39m, encoding\u001b[39m=\u001b[39m\u001b[39m\"\u001b[39m\u001b[39mutf-8\u001b[39m\u001b[39m\"\u001b[39m))\n",
      "File \u001b[1;32mc:\\Users\\mj115gl\\work_dir\\thesis\\audio-semantics\\levelwise_model\\test_bench.py:217\u001b[0m, in \u001b[0;36mLSTestBench.same_word_abx_test\u001b[1;34m(self, utterances, word_vec_fn, runs_per_ds, use_noise_for_x)\u001b[0m\n\u001b[0;32m    214\u001b[0m ds \u001b[39m=\u001b[39m test_sets[test_set][\u001b[39m'\u001b[39m\u001b[39mdataset\u001b[39m\u001b[39m'\u001b[39m]\n\u001b[0;32m    215\u001b[0m \u001b[39mfor\u001b[39;00m _ \u001b[39min\u001b[39;00m \u001b[39mrange\u001b[39m(runs_per_ds):\n\u001b[0;32m    216\u001b[0m     \u001b[39m# Select two random words for A and X\u001b[39;00m\n\u001b[1;32m--> 217\u001b[0m     word_a, word_x \u001b[39m=\u001b[39m np\u001b[39m.\u001b[39;49mrandom\u001b[39m.\u001b[39;49mchoice(\n\u001b[0;32m    218\u001b[0m         \u001b[39mlist\u001b[39;49m(ds\u001b[39m.\u001b[39;49mkeys()),\n\u001b[0;32m    219\u001b[0m         size\u001b[39m=\u001b[39;49m\u001b[39m2\u001b[39;49m,\n\u001b[0;32m    220\u001b[0m         replace\u001b[39m=\u001b[39;49m\u001b[39mFalse\u001b[39;49;00m\n\u001b[0;32m    221\u001b[0m     )\n\u001b[0;32m    222\u001b[0m     utt_a, utt_b \u001b[39m=\u001b[39m np\u001b[39m.\u001b[39mrandom\u001b[39m.\u001b[39mchoice(\n\u001b[0;32m    223\u001b[0m         ds[word_a],\n\u001b[0;32m    224\u001b[0m         size\u001b[39m=\u001b[39m\u001b[39m2\u001b[39m,\n\u001b[0;32m    225\u001b[0m         replace\u001b[39m=\u001b[39m\u001b[39mFalse\u001b[39;00m\n\u001b[0;32m    226\u001b[0m     )\n\u001b[0;32m    228\u001b[0m     utt_x \u001b[39m=\u001b[39m np\u001b[39m.\u001b[39mrandom\u001b[39m.\u001b[39mchoice(\n\u001b[0;32m    229\u001b[0m         ds[word_x]\n\u001b[0;32m    230\u001b[0m     )\n",
      "File \u001b[1;32mmtrand.pyx:934\u001b[0m, in \u001b[0;36mnumpy.random.mtrand.RandomState.choice\u001b[1;34m()\u001b[0m\n",
      "\u001b[1;31mValueError\u001b[0m: 'a' cannot be empty unless no samples are taken"
     ]
    }
   ],
   "source": [
    "lw_model.train(\n",
    "    input_file=\"data/level_wise/level0/corpus_original.txt\",\n",
    "    utterance_file=\"data/level_wise/level0/utterances_original.txt\",\n",
    "    configs=configs,\n",
    "    test_bench=test_bench\n",
    ")"
   ]
  },
  {
   "attachments": {},
   "cell_type": "markdown",
   "metadata": {},
   "source": [
    "## Playground"
   ]
  },
  {
   "attachments": {},
   "cell_type": "markdown",
   "metadata": {},
   "source": [
    "### Get number of tokens per utterance"
   ]
  },
  {
   "cell_type": "code",
   "execution_count": 7,
   "metadata": {},
   "outputs": [],
   "source": [
    "from levelwise_model.utterances import WordToUtteranceMapping\n",
    "import sentencepiece as spm\n",
    "import matplotlib.pyplot as plt"
   ]
  },
  {
   "cell_type": "code",
   "execution_count": 8,
   "metadata": {},
   "outputs": [],
   "source": [
    "utterance_mapping = WordToUtteranceMapping(map_file=\"data/comp_60k_250x1/level1/utterances.txt\")\n",
    "sp_model = spm.SentencePieceProcessor()\n",
    "sp_model.Load(\"models/comp_60k_250x1/level1/unigram_vs60000_lw.model\")\n",
    "each_word_maps, all_lengths = utterance_mapping.get_utterance_stats(sp_model)"
   ]
  },
  {
   "cell_type": "code",
   "execution_count": 9,
   "metadata": {},
   "outputs": [
    {
     "data": {
      "text/plain": [
       "1.7311671280781"
      ]
     },
     "execution_count": 9,
     "metadata": {},
     "output_type": "execute_result"
    }
   ],
   "source": [
    "sum(all_lengths) / len(all_lengths)"
   ]
  },
  {
   "cell_type": "code",
   "execution_count": 10,
   "metadata": {},
   "outputs": [
    {
     "data": {
      "text/plain": [
       "(array([3.428e+03, 2.342e+03, 6.930e+02, 3.300e+02, 5.200e+01, 1.600e+01,\n",
       "        2.000e+00, 0.000e+00, 0.000e+00, 0.000e+00]),\n",
       " array([ 1.,  2.,  3.,  4.,  5.,  6.,  7.,  8.,  9., 10., 11.]),\n",
       " <BarContainer object of 10 artists>)"
      ]
     },
     "execution_count": 10,
     "metadata": {},
     "output_type": "execute_result"
    },
    {
     "data": {
      "image/png": "[encoded data removed]",
      "text/plain": [
       "<Figure size 640x480 with 1 Axes>"
      ]
     },
     "metadata": {},
     "output_type": "display_data"
    }
   ],
   "source": [
    "plt.hist(all_lengths, bins=range(1, 12))"
   ]
  },
  {
   "attachments": {},
   "cell_type": "markdown",
   "metadata": {},
   "source": [
    "### Get number of clusters"
   ]
  },
  {
   "cell_type": "code",
   "execution_count": 12,
   "metadata": {},
   "outputs": [],
   "source": [
    "from levelwise_model.cluster import Cluster"
   ]
  },
  {
   "cell_type": "code",
   "execution_count": 13,
   "metadata": {},
   "outputs": [
    {
     "data": {
      "text/plain": [
       "58601"
      ]
     },
     "execution_count": 13,
     "metadata": {},
     "output_type": "execute_result"
    }
   ],
   "source": [
    "clusters = Cluster(map_file=\"data/comp_60k_250x1/level1/clusters.txt\")\n",
    "len(clusters.cluster_to_words)"
   ]
  },
  {
   "cell_type": "code",
   "execution_count": null,
   "metadata": {},
   "outputs": [],
   "source": []
  }
 ],
 "metadata": {
  "kernelspec": {
   "display_name": "venv",
   "language": "python",
   "name": "python3"
  },
  "language_info": {
   "codemirror_mode": {
    "name": "ipython",
    "version": 3
   },
   "file_extension": ".py",
   "mimetype": "text/x-python",
   "name": "python",
   "nbconvert_exporter": "python",
   "pygments_lexer": "ipython3",
   "version": "3.9.17"
  },
  "orig_nbformat": 4
 },
 "nbformat": 4,
 "nbformat_minor": 2
}
