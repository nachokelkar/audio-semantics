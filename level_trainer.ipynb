{
 "cells": [
  {
   "cell_type": "code",
   "execution_count": 1,
   "metadata": {},
   "outputs": [],
   "source": [
    "from levelwise_model.levelwise_model import LevelwiseModel\n",
    "from levelwise_model.config import Config, Word2VecConfig, SentencePieceConfig\n",
    "from levelwise_model.test_bench import LSTestBench"
   ]
  },
  {
   "cell_type": "code",
   "execution_count": null,
   "metadata": {},
   "outputs": [],
   "source": [
    "tag = \"original_20k_150x1__60k_250x5__50k_250x5\""
   ]
  },
  {
   "cell_type": "code",
   "execution_count": 3,
   "metadata": {},
   "outputs": [],
   "source": [
    "lw_model = LevelwiseModel(\n",
    "    tag=tag,\n",
    ")"
   ]
  },
  {
   "cell_type": "code",
   "execution_count": 4,
   "metadata": {},
   "outputs": [],
   "source": [
    "configs = [\n",
    "    Config(\n",
    "        SentencePieceConfig(max_sentence_length=20000, vocab_size=20000, model_type=\"unigram\"),\n",
    "        Word2VecConfig(vector_size=150, window=1),\n",
    "        cluster_threshold=0.45\n",
    "    ),\n",
    "    Config(\n",
    "        SentencePieceConfig(max_sentence_length=5000, vocab_size=60000, model_type=\"unigram\"),\n",
    "        Word2VecConfig(vector_size=250, window=5),\n",
    "        cluster_threshold=0.9\n",
    "    ),\n",
    "    Config(\n",
    "        SentencePieceConfig(max_sentence_length=5000, vocab_size=50000, model_type=\"unigram\"),\n",
    "        Word2VecConfig(vector_size=250, window=5),\n",
    "        cluster_threshold=1\n",
    "    )\n",
    "]"
   ]
  },
  {
   "cell_type": "code",
   "execution_count": 5,
   "metadata": {},
   "outputs": [],
   "source": [
    "test_bench = LSTestBench(scores_file=\"data/level_wise/level0/pairs.txt\")"
   ]
  },
  {
   "cell_type": "code",
   "execution_count": 6,
   "metadata": {},
   "outputs": [],
   "source": [
    "lw_model.train(\n",
    "    input_file=\"data/level_wise/level0/corpus_original.txt\",\n",
    "    utterance_file=\"data/level_wise/level0/utterances_original.txt\",\n",
    "    n_levels=2,\n",
    "    configs=configs,\n",
    "    test_bench=test_bench\n",
    ")"
   ]
  },
  {
   "cell_type": "code",
   "execution_count": null,
   "metadata": {},
   "outputs": [],
   "source": []
  }
 ],
 "metadata": {
  "kernelspec": {
   "display_name": "venv",
   "language": "python",
   "name": "python3"
  },
  "language_info": {
   "codemirror_mode": {
    "name": "ipython",
    "version": 3
   },
   "file_extension": ".py",
   "mimetype": "text/x-python",
   "name": "python",
   "nbconvert_exporter": "python",
   "pygments_lexer": "ipython3",
   "version": "3.11.1"
  },
  "orig_nbformat": 4
 },
 "nbformat": 4,
 "nbformat_minor": 2
}
