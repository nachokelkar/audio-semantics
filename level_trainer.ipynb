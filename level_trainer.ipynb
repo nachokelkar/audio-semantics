{
 "cells": [
  {
   "cell_type": "code",
   "execution_count": 1,
   "metadata": {},
   "outputs": [],
   "source": [
    "from levelwise_model.levelwise_model import LevelwiseModel\n",
    "from levelwise_model.config import Config, Word2VecConfig, SentencePieceConfig\n",
    "from levelwise_model.test_bench import LSTestBench"
   ]
  },
  {
   "cell_type": "code",
   "execution_count": 2,
   "metadata": {},
   "outputs": [],
   "source": [
    "tag = \"lw_20k_250x1__15k_150x5\""
   ]
  },
  {
   "cell_type": "code",
   "execution_count": 3,
   "metadata": {},
   "outputs": [],
   "source": [
    "lw_model = LevelwiseModel(\n",
    "    tag=tag\n",
    ")"
   ]
  },
  {
   "cell_type": "code",
   "execution_count": 4,
   "metadata": {},
   "outputs": [],
   "source": [
    "configs = [\n",
    "    Config(\n",
    "        SentencePieceConfig(max_sentence_length=20000, vocab_size=20000, model_type=\"unigram\"),\n",
    "        Word2VecConfig(vector_size=250, window=1),\n",
    "        cluster_threshold=0.45\n",
    "    ),\n",
    "    Config(\n",
    "        SentencePieceConfig(max_sentence_length=5000, vocab_size=20000, model_type=\"unigram\"),\n",
    "        Word2VecConfig(vector_size=150, window=5),\n",
    "        cluster_threshold=0.9\n",
    "    ),\n",
    "]"
   ]
  },
  {
   "cell_type": "code",
   "execution_count": 5,
   "metadata": {},
   "outputs": [],
   "source": [
    "test_bench = LSTestBench(scores_file=\"data/level_wise/level0/pairs.txt\")"
   ]
  },
  {
   "cell_type": "code",
   "execution_count": 6,
   "metadata": {},
   "outputs": [],
   "source": [
    "lw_model.train(\n",
    "    input_file=\"data/level_wise/level0/corpus.txt\",\n",
    "    utterance_file=\"data/level_wise/level0/utterances.txt\",\n",
    "    n_levels=2,\n",
    "    configs=configs,\n",
    "    test_bench=test_bench\n",
    ")"
   ]
  },
  {
   "cell_type": "code",
   "execution_count": null,
   "metadata": {},
   "outputs": [],
   "source": []
  }
 ],
 "metadata": {
  "kernelspec": {
   "display_name": "venv",
   "language": "python",
   "name": "python3"
  },
  "language_info": {
   "codemirror_mode": {
    "name": "ipython",
    "version": 3
   },
   "file_extension": ".py",
   "mimetype": "text/x-python",
   "name": "python",
   "nbconvert_exporter": "python",
   "pygments_lexer": "ipython3",
   "version": "3.11.1"
  },
  "orig_nbformat": 4
 },
 "nbformat": 4,
 "nbformat_minor": 2
}
